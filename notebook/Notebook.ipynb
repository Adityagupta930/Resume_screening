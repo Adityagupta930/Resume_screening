{
 "cells": [
  {
   "cell_type": "code",
   "execution_count": null,
   "id": "32a86247-015d-4c84-b816-1e35aa51ea39",
   "metadata": {},
   "outputs": [],
   "source": []
  }
 ],
 "metadata": {
  "kernelspec": {
   "display_name": "",
   "name": ""
  },
  "language_info": {
   "name": ""
  }
 },
 "nbformat": 4,
 "nbformat_minor": 5
}
