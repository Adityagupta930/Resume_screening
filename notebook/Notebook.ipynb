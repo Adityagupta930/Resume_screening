{
 "cells": [
  {
   "cell_type": "code",
   "execution_count": 1,
   "id": "32a86247-015d-4c84-b816-1e35aa51ea39",
   "metadata": {},
   "outputs": [],
   "source": [
    "import numpy as np\n",
    "import pandas as pd"
   ]
  },
  {
   "cell_type": "code",
   "execution_count": 3,
   "id": "0b34c286-c89f-426f-b1e5-eddaa2b4b9b9",
   "metadata": {},
   "outputs": [],
   "source": [
    "data = pd.read_csv('UpdatedResumeDataSet.csv')"
   ]
  },
  {
   "cell_type": "code",
   "execution_count": 4,
   "id": "0ab4bd52-7b81-4cf0-91ea-9d02d6a85aac",
   "metadata": {},
   "outputs": [
    {
     "data": {
      "text/html": [
       "<div>\n",
       "<style scoped>\n",
       "    .dataframe tbody tr th:only-of-type {\n",
       "        vertical-align: middle;\n",
       "    }\n",
       "\n",
       "    .dataframe tbody tr th {\n",
       "        vertical-align: top;\n",
       "    }\n",
       "\n",
       "    .dataframe thead th {\n",
       "        text-align: right;\n",
       "    }\n",
       "</style>\n",
       "<table border=\"1\" class=\"dataframe\">\n",
       "  <thead>\n",
       "    <tr style=\"text-align: right;\">\n",
       "      <th></th>\n",
       "      <th>Category</th>\n",
       "      <th>Resume</th>\n",
       "    </tr>\n",
       "  </thead>\n",
       "  <tbody>\n",
       "    <tr>\n",
       "      <th>0</th>\n",
       "      <td>Data Science</td>\n",
       "      <td>Skills * Programming Languages: Python (pandas...</td>\n",
       "    </tr>\n",
       "    <tr>\n",
       "      <th>1</th>\n",
       "      <td>Data Science</td>\n",
       "      <td>Education Details \\r\\nMay 2013 to May 2017 B.E...</td>\n",
       "    </tr>\n",
       "    <tr>\n",
       "      <th>2</th>\n",
       "      <td>Data Science</td>\n",
       "      <td>Areas of Interest Deep Learning, Control Syste...</td>\n",
       "    </tr>\n",
       "    <tr>\n",
       "      <th>3</th>\n",
       "      <td>Data Science</td>\n",
       "      <td>Skills â¢ R â¢ Python â¢ SAP HANA â¢ Table...</td>\n",
       "    </tr>\n",
       "    <tr>\n",
       "      <th>4</th>\n",
       "      <td>Data Science</td>\n",
       "      <td>Education Details \\r\\n MCA   YMCAUST,  Faridab...</td>\n",
       "    </tr>\n",
       "  </tbody>\n",
       "</table>\n",
       "</div>"
      ],
      "text/plain": [
       "       Category                                             Resume\n",
       "0  Data Science  Skills * Programming Languages: Python (pandas...\n",
       "1  Data Science  Education Details \\r\\nMay 2013 to May 2017 B.E...\n",
       "2  Data Science  Areas of Interest Deep Learning, Control Syste...\n",
       "3  Data Science  Skills â¢ R â¢ Python â¢ SAP HANA â¢ Table...\n",
       "4  Data Science  Education Details \\r\\n MCA   YMCAUST,  Faridab..."
      ]
     },
     "execution_count": 4,
     "metadata": {},
     "output_type": "execute_result"
    }
   ],
   "source": [
    "data.head()"
   ]
  },
  {
   "cell_type": "code",
   "execution_count": 5,
   "id": "c4a37682-ca55-4fed-9f13-11cff49aa9c3",
   "metadata": {},
   "outputs": [
    {
     "data": {
      "text/plain": [
       "(962, 2)"
      ]
     },
     "execution_count": 5,
     "metadata": {},
     "output_type": "execute_result"
    }
   ],
   "source": [
    "data.shape"
   ]
  },
  {
   "cell_type": "code",
   "execution_count": 7,
   "id": "e277bc72-5b19-42b2-9672-47a284e1a8e9",
   "metadata": {},
   "outputs": [
    {
     "data": {
      "text/plain": [
       "Category    0\n",
       "Resume      0\n",
       "dtype: int64"
      ]
     },
     "execution_count": 7,
     "metadata": {},
     "output_type": "execute_result"
    }
   ],
   "source": [
    "data.isnull().sum()"
   ]
  },
  {
   "cell_type": "code",
   "execution_count": 8,
   "id": "185bd6e1-797f-48b4-a11c-13732af4c0cd",
   "metadata": {},
   "outputs": [
    {
     "name": "stdout",
     "output_type": "stream",
     "text": [
      "<class 'pandas.core.frame.DataFrame'>\n",
      "RangeIndex: 962 entries, 0 to 961\n",
      "Data columns (total 2 columns):\n",
      " #   Column    Non-Null Count  Dtype \n",
      "---  ------    --------------  ----- \n",
      " 0   Category  962 non-null    object\n",
      " 1   Resume    962 non-null    object\n",
      "dtypes: object(2)\n",
      "memory usage: 15.2+ KB\n"
     ]
    }
   ],
   "source": [
    "data.info()"
   ]
  },
  {
   "cell_type": "code",
   "execution_count": 9,
   "id": "03bcf286-a7d0-4000-91bc-fd488006d382",
   "metadata": {},
   "outputs": [
    {
     "data": {
      "text/html": [
       "<div>\n",
       "<style scoped>\n",
       "    .dataframe tbody tr th:only-of-type {\n",
       "        vertical-align: middle;\n",
       "    }\n",
       "\n",
       "    .dataframe tbody tr th {\n",
       "        vertical-align: top;\n",
       "    }\n",
       "\n",
       "    .dataframe thead th {\n",
       "        text-align: right;\n",
       "    }\n",
       "</style>\n",
       "<table border=\"1\" class=\"dataframe\">\n",
       "  <thead>\n",
       "    <tr style=\"text-align: right;\">\n",
       "      <th></th>\n",
       "      <th>Category</th>\n",
       "      <th>Resume</th>\n",
       "    </tr>\n",
       "  </thead>\n",
       "  <tbody>\n",
       "    <tr>\n",
       "      <th>957</th>\n",
       "      <td>Testing</td>\n",
       "      <td>Computer Skills: â¢ Proficient in MS office (...</td>\n",
       "    </tr>\n",
       "    <tr>\n",
       "      <th>958</th>\n",
       "      <td>Testing</td>\n",
       "      <td>â Willingness to accept the challenges. â ...</td>\n",
       "    </tr>\n",
       "    <tr>\n",
       "      <th>959</th>\n",
       "      <td>Testing</td>\n",
       "      <td>PERSONAL SKILLS â¢ Quick learner, â¢ Eagerne...</td>\n",
       "    </tr>\n",
       "    <tr>\n",
       "      <th>960</th>\n",
       "      <td>Testing</td>\n",
       "      <td>COMPUTER SKILLS &amp; SOFTWARE KNOWLEDGE MS-Power ...</td>\n",
       "    </tr>\n",
       "    <tr>\n",
       "      <th>961</th>\n",
       "      <td>Testing</td>\n",
       "      <td>Skill Set OS Windows XP/7/8/8.1/10 Database MY...</td>\n",
       "    </tr>\n",
       "  </tbody>\n",
       "</table>\n",
       "</div>"
      ],
      "text/plain": [
       "    Category                                             Resume\n",
       "957  Testing  Computer Skills: â¢ Proficient in MS office (...\n",
       "958  Testing  â Willingness to accept the challenges. â ...\n",
       "959  Testing  PERSONAL SKILLS â¢ Quick learner, â¢ Eagerne...\n",
       "960  Testing  COMPUTER SKILLS & SOFTWARE KNOWLEDGE MS-Power ...\n",
       "961  Testing  Skill Set OS Windows XP/7/8/8.1/10 Database MY..."
      ]
     },
     "execution_count": 9,
     "metadata": {},
     "output_type": "execute_result"
    }
   ],
   "source": [
    "data.tail()"
   ]
  },
  {
   "cell_type": "code",
   "execution_count": 10,
   "id": "29048681-4005-422c-89f7-2c7fc02ea2a1",
   "metadata": {},
   "outputs": [
    {
     "data": {
      "text/html": [
       "<div>\n",
       "<style scoped>\n",
       "    .dataframe tbody tr th:only-of-type {\n",
       "        vertical-align: middle;\n",
       "    }\n",
       "\n",
       "    .dataframe tbody tr th {\n",
       "        vertical-align: top;\n",
       "    }\n",
       "\n",
       "    .dataframe thead th {\n",
       "        text-align: right;\n",
       "    }\n",
       "</style>\n",
       "<table border=\"1\" class=\"dataframe\">\n",
       "  <thead>\n",
       "    <tr style=\"text-align: right;\">\n",
       "      <th></th>\n",
       "      <th>Category</th>\n",
       "      <th>Resume</th>\n",
       "    </tr>\n",
       "  </thead>\n",
       "  <tbody>\n",
       "    <tr>\n",
       "      <th>404</th>\n",
       "      <td>Business Analyst</td>\n",
       "      <td>Technical Skills Application Servers: IIS 6.0,...</td>\n",
       "    </tr>\n",
       "    <tr>\n",
       "      <th>388</th>\n",
       "      <td>Java Developer</td>\n",
       "      <td>Skills â¢ Language: Java â¢ Operating System...</td>\n",
       "    </tr>\n",
       "    <tr>\n",
       "      <th>614</th>\n",
       "      <td>DevOps Engineer</td>\n",
       "      <td>CORE COMPETENCIES ~ Ant ~ Maven ~ GIT ~ Bitbuc...</td>\n",
       "    </tr>\n",
       "    <tr>\n",
       "      <th>832</th>\n",
       "      <td>DotNet Developer</td>\n",
       "      <td>Participated in intra college cricket competit...</td>\n",
       "    </tr>\n",
       "    <tr>\n",
       "      <th>145</th>\n",
       "      <td>Web Designing</td>\n",
       "      <td>Technical Skills Web Technologies: Angular JS,...</td>\n",
       "    </tr>\n",
       "  </tbody>\n",
       "</table>\n",
       "</div>"
      ],
      "text/plain": [
       "             Category                                             Resume\n",
       "404  Business Analyst  Technical Skills Application Servers: IIS 6.0,...\n",
       "388    Java Developer  Skills â¢ Language: Java â¢ Operating System...\n",
       "614   DevOps Engineer  CORE COMPETENCIES ~ Ant ~ Maven ~ GIT ~ Bitbuc...\n",
       "832  DotNet Developer  Participated in intra college cricket competit...\n",
       "145     Web Designing  Technical Skills Web Technologies: Angular JS,..."
      ]
     },
     "execution_count": 10,
     "metadata": {},
     "output_type": "execute_result"
    }
   ],
   "source": [
    "data.sample(5)"
   ]
  },
  {
   "cell_type": "code",
   "execution_count": 12,
   "id": "3b637881-a128-42bf-8dc1-c62373bc94e4",
   "metadata": {},
   "outputs": [
    {
     "data": {
      "text/plain": [
       "Category         Resume                                                                                                                                                                                                                                                                                                                                                                                                                                                                                                                                                                                                                                                                                                                                                                                                                                                                                                                                                                                                                                                                                                                                                                                                                                                                                                                                                                                                                                                                                                                                                                                                                                                                                                                                                                                                                                                                                                                                                                                                                                                                                                                                                                                                                                                                                                                                                                                                                                                                                                                                                                                                                                                                                                                                                                                                                                                                                                                                                                                                                                                                                                                                                                                                                                                                                                                                                                                                                                                                                                                                                                                                                                                                                                                                                                                                                                                                                                                                                                                                                                                                                                                                                                                                                                                                                                                                                                                                                                                                                                                                                                                                                                                                                                                                                                                                                                                                                                                                                                                                                                                                                                                                                                                                                                                                                                                                                                                                                                                                                                                                                                                                                                                                                                                                                                                                                                                                                                                                                                                                                                                                                                                                                                                                                                                                                                                                                                                                                                                                                                                                                                                                                                                                                                                                                                                                                                                                                                                                                                                                                                                                                                                                                                                                                                                                                                                                                                                                                                                                                                                                                                                                                                                                                                                                                                                                                                                                                                                                                                                                                                                                                                                                                                                                                                                                                                                                                                                                                                                                                                                                                                                                                                                                                                                                                                                                                                                                                         \n",
       "Web Designing    Technical Skills Web Technologies: Angular JS, HTML5, CSS3, SASS, Bootstrap, Jquery, Javascript. Software: Brackets, Visual Studio, Photoshop, Visual Studio Code Education Details \\r\\nJanuary 2015 B.E CSE Nagpur, Maharashtra G.H.Raisoni College of Engineering\\r\\nOctober 2009  Photography Competition Click Nagpur, Maharashtra Maharashtra State Board\\r\\n    College Magazine OCEAN\\r\\nWeb Designer \\r\\n\\r\\nWeb Designer - Trust Systems and Software\\r\\nSkill Details \\r\\nPHOTOSHOP- Exprience - 28 months\\r\\nBOOTSTRAP- Exprience - 6 months\\r\\nHTML5- Exprience - 6 months\\r\\nJAVASCRIPT- Exprience - 6 months\\r\\nCSS3- Exprience - Less than 1 year months\\r\\nAngular 4- Exprience - Less than 1 year monthsCompany Details \\r\\ncompany - Trust Systems and Software\\r\\ndescription - Projects worked on:\\r\\n1. TrustBank-CBS\\r\\nProject Description: TrustBank-CBS is a core banking solution by Trust Systems.\\r\\nRoles and Responsibility:\\r\\nâ Renovated complete UI to make it more modern, user-friendly, maintainable and optimised for bank use.\\r\\nâ Shared the UI structure and guidelines to be incorporated, with development team of around 50\\r\\nmembers.\\r\\nâ Achieved the target of project completion in given time frame.\\r\\nâ Made required graphics for the project in photoshop\\r\\n\\r\\n2. Loan Bazar (Loan Appraisal)\\r\\nProject Description: Loan Bazar is a MVC-based application dedicated to creating and managing\\r\\nloan applications. The goal of this application is to streamline the process of loan application and integrate with existing CBS.\\r\\nRoles and Responsibility\\r\\nâ Designed and developed modern and responsive UI of entire application and achieved the target in given time frame.\\r\\nâ Made required graphics for the project in photoshop\\r\\n3. Capital Security Bond Application\\r\\nProject Description: Capital Security Bond Application is a MVC based application which provided an online platform to purchase gold bond\\r\\nRoles and Responsibility:\\r\\nâ Designed and developed modern and responsive UI of entire application and achieved the target in given time frame.\\r\\nâ Made required graphics for the project in photoshop\\r\\n\\r\\n4. SoftGST\\r\\nProject Description: SoftGST (Web Based Application) is an ASP application to every tax\\r\\npayers and its vendors for generating the GSTR returns on the basis of sales / purchase\\r\\ndata, additionally the application can do the reconciliation of GSTR 2 A with purchase register.\\r\\nRoles and Responsibility:\\r\\nâ Designed and developed the UI of Dashboard.\\r\\n\\r\\n5. Trust Analytica:\\r\\nProject Description: Trust Analytika is the mobile web app that shows bank asset, liability,\\r\\nincome, expenses.\\r\\nRoles and Responsibility:\\r\\nâ Designed and developed the landing page of the application.\\r\\nâ Supported the developers in UI implementation\\r\\n\\r\\n6. Website's:\\r\\nProject Name:\\r\\n1. TSR Technology Services - http://tsrtechnologyservices.com\\r\\n2. Vidarbha Merchants Urban Co-Op Bank - http://vmcbank.com\\r\\n3. GISSS - http://gisss.co.in\\r\\n4. Softtrust USA - http://softtrustusa.com\\r\\nRoles and Responsibility\\r\\nâ Communicated with clients to understand their requirement\\r\\nâ Made mocks for the website\\r\\nâ Designed and developed complete website and hosted them in stipulated time.\\r\\ncompany - www.jalloshband.com\\r\\ndescription - Project Name:\\r\\n1. Jallosh Band - www.jalloshband.com\\r\\n2. An Endeavor Foundation\\r\\nRoles and Responsibility:\\r\\nâ Communicated with clients to understand their requirement\\r\\nâ Made mocks for the website\\r\\nâ Designed and developed complete website and hosted them in stipulated time.\\r\\ncompany - 10MagicalFingers\\r\\ndescription - National and international client interaction.\\r\\nâ Management of digital data                                                                                                                                                                                                                                                                                                                                                                                                                                                                                                                                                                                                                                                                                                                                                                                                                                                                                                                                                                                                                                                                                                                                                                                                                                                                                                                                                                                                                                                                                                                                                                                                                                                                                                                                                                                                                                                                                                                                                                                                                                                                                                                                                                                                                                                                                                                                                                                                                                                                                                                                                                                                                                                                                                                                                                                                                                                                                                                                                                                                                                                                                                                                                                                                                                                                                                                                                                                                                                                                                                                                                                                                                                                                                                                                                                                                                                                                                                                                                                                                                                                                                                                                                                                                                                                                                                                                                                                                                                                                                                                                                                                                                                                                                                                                                                                                                                                                                                                                                                                                     18\n",
       "DevOps Engineer  CORE COMPETENCIES ~ Ant ~ Maven ~ GIT ~ Bitbucket ~ Jenkins ~ Linux ~ Ansible ~ Shell Scripting ~Requirement Gathering ~Continuous Integration and Continuous Deployment ~ Software Development Life Cycle ~ Software Testing Life Cycle ~ Documentation & Reporting ~ Test Reports IT SKILLS â¢ Primary Skills: Dev-ops methodologies â¢ Programming Languages: C, Core Java â¢ Version Controls: GIT, Bitbucket â¢ Build Tools: ANT, Maven â¢ CI/CD Tools: Jenkins â¢ Configuration management: Ansible â¢ Scripting: Shell Script â¢ Application Servers: Apache Tomcat serverEducation Details \\r\\nJune 2015 to June 2017 Masters of science information technology Hyderabad, Telangana JNTU\\r\\nDevops Engineer \\r\\n\\r\\nDevops Engineer - Nendrasys Technologies Pvt Ltd\\r\\nSkill Details \\r\\nDEPLOYMENT- Exprience - 27 months\\r\\nGit- Exprience - 27 months\\r\\nDOCUMENTATION- Exprience - 26 months\\r\\nCHANGE MANAGEMENT- Exprience - 10 months\\r\\nCONFIGURATION MANAGEMENT- Exprience - 10 monthsCompany Details \\r\\ncompany - Nendrasys Technologies Pvt Ltd\\r\\ndescription - Date\\r\\n\\r\\nProject Description:\\r\\nThe Scope of the project is to design & develop e-commerce product features for sloan project. It's a basically B2B project where customer can buy all fixers, sinks related product. It focuses on the company, the stakeholders and applications, which allow for online sales, distribution and marketing of product.\\r\\n\\r\\nResponsibilities:\\r\\no Detailed technical Knowledge and hands-on experience on DevOps, Automation, Build Engineering and Configura -\\r\\ntion Management.\\r\\no Creating fully automated CI build and deployment infrastructure and processes for multiple projects.\\r\\no Developing scripts for build, deployment, maintenance and related tasks using Jenkins.\\r\\no Installing, configuring and maintaining Continuous Integration, Automation and Configuration Management tools.\\r\\no Developing Ant, Maven and Shell scripts to automatically compile, package, deploy WAR, EAR and JAR files of mul- tiple applications to various platforms.\\r\\no Creating Repositories, branches, managing the permissions of users and maintaining GIT, Bitbucket\\r\\no Deploying and maintaining the code and application respectively and configuring the components which increase the re-usability.\\r\\no Working closely with Architecture, Development, Test, Security and IT Services teams.\\r\\no Supporting Business Analysts in getting used to the newly created jobs and Release activities.\\r\\no Communicating daily with On-Site Team\\r\\no Analyzing the requirements and identifying gaps & tracking logs, issues.\\r\\n\\r\\nPROJECT 2\\r\\n\\r\\nNendrasys Technologies Pvt Ltd.,\\r\\nProject Name: Bangkok Bank Limited (BBL) Thaitrade (Commercial, E-commerce & Payment portal)\\r\\ncompany - Nendrasys Technologies Pvt Ltd\\r\\ndescription - Role: Devops Engineer\\r\\nâ¢ Devops Engineer for a team that involved different development teams and multiple simultaneous software re- leases\\r\\nâ¢ Participated in weekly release meetings with different teams to identify and mitigate potential risks associated with the releases.\\r\\nâ¢ Responsible for Creating Repositories, branches, managing the permissions of users and maintaining GIT.\\r\\nâ¢ Creating fully automated CI build and deployment infrastructure and processes for multiple projects.\\r\\nâ¢ Analyze and resolve conflicts related to merging of source code for GIT\\r\\nâ¢ Responsible for creating Ant and Maven scripts for build automation.\\r\\nâ¢ Implemented the setup for Master slave architecture to improve the Performance of Jenkins.\\r\\nâ¢ Handled end-to-end deployments and code propagation's across different environments, DEV to PROD.\\r\\nâ¢ Handled the tasks of developing and maintaining the Change Tasks.\\r\\nâ¢ Closely working with Developers, QA, Performance, UAT testers, IT Team.\\r\\nâ¢ Created and maintained documentation of build and release processes and application configuration\\r\\nâ¢ Coordinated with developers, Business Analyst and Mangers to make sure that code is deployed in the Production\\r\\nenvironment.\\r\\n\\r\\nPROJECT 1\\r\\nNendrasys Technologies Pvt Ltd.,\\r\\nProject Name: Sloan Global Holdings (Sloan) (E-commerce)\\r\\ncompany - Nendrasys Technologies Pvt Ltd\\r\\ndescription - Project Description:\\r\\nBBL is development of an e-commerce payment portal System. As such BBL require a system which can support multiple\\r\\nmerchants B2B/B2C e-commerce portal with various payment options via both online and offline. To achieve this BBL had\\r\\nmade an agreement with Thai Trade, Thai Trade is one of the leading e-commerce website recognized by Thai\\r\\ngovernment. In present Thai trade has a good base of users and sellers in several categories .The scope of the project is to design and develop e-commerce product features for BBLWTP project. It focuses on the company, the stakeholders and\\r\\napplications, which allow for online sales, distribution and marketing of electronics.\\r\\n\\r\\nResponsibilities:\\r\\no Plan and track activities involved for build and deployment.\\r\\no Resolving build issues\\r\\no Developing scripts for build, deployment, maintenance and related tasks using Jenkins.\\r\\no Collaboration with Development, QA, Product managements on build plans & schedules\\r\\no Send daily and weekly reports to the team.\\r\\no Involved in creating repositories, branches, merging activities, backup and restore activities in subversion\\r\\nservers.\\r\\no Maintenance of Maven, shell scripts for safe builds and deploys.                                                                                                                                                                                                                                                                                                                                                                                                                                                                                                                                                                                                                                                                                                                                                                                                                                                                                                                                                                                                                                                                                                                                                                                                                                                                                                                                                                                                                                                                                                                                                                                                                                                                                                                                                                                                                                                                                                                                                                                                                                                                                                                                                                                                                                                                                                                                                                                                                                                                                                                                                                                                                                                                                                                                                                                                                                                                                                                                                                                                                                                                                                                                                                                                       17\n",
       "                 Skills VISA B1-VISA (USA) Onsite Visits to Sweden & US (Seattle) Education Details \\r\\nJanuary 2013 Post Graduate Diploma Information Technology Pune, Maharashtra Symbiosis Institute\\r\\nJanuary 2007 Bachelor of Engineering Electronics and Telecommunications Pune, Maharashtra Pune University\\r\\nCloud Operations Architect (DevOps) \\r\\n\\r\\nCloud Operations Architect (DevOps) - DevOps\\r\\nSkill Details \\r\\nCloud Computing- Exprience - 48 months\\r\\nShell Scripting- Exprience - 96 months\\r\\nPython- Exprience - 6 months\\r\\nAutomation- Exprience - 72 months\\r\\nSolution Architect- Exprience - Less than 1 year months\\r\\nAzure- Exprience - Less than 1 year months\\r\\nAWS- Exprience - Less than 1 year monthsCompany Details \\r\\ncompany - DevOps\\r\\ndescription - Type: DevOps Engineer.\\r\\nPlatform: AWS Cloud, Azure Cloud.\\r\\nServices: AWS EC2, RDS, CloudFormation Template, Lambda, Dynamo DB,\\t\\tCloud Watch, Auto-scaling, Elastic Bean stalk, Appdynamics.\\r\\n\\r\\nHere I manage Tibco Spotfire enterprise & Cloud Product support. Being the only Ops member in India I got a chance to recruit & build entire team of 15 members. I also worked on 4 different Projects / products simultaneously and added the hired members into these products.\\r\\n\\r\\nMy responsibilities in this project include:\\r\\n1. Managing Tibco Spotfire Enterprise & Cloud environment.\\r\\n2. Helping India QA team with the pre-production environment for testing.\\r\\n3. Coordinating production deployment & hot-fixes.\\r\\n4. Leading the team and handling 4-projects.\\r\\n5. Arranging workshops over new AWS services for entire Team.\\r\\n\\r\\nShell scripts for Automation:\\r\\n\\r\\nâ¢ Wrote shell script to extract the AWS running instances and shut it down.\\r\\nâ¢ Wrote shell script to extract free EIP and release those.\\r\\nâ¢ Wrote Lambda function to trigger important scripts.\\r\\ncompany - Synechron Technologies Limited\\r\\ndescription - Type: Administration, automation & Monitoring.\\r\\nPlatform: Linux/Unix, Linux-Xen Servers,\\r\\nSoftware: Puppet, Redhat Satellite server, my-sql database shell scripting.\\r\\n\\r\\nMy responsibilities in this project included:\\r\\n1. Managing linux media servers farms and provide application support.\\r\\n2. Patching Linux physical and xen boxes.\\r\\n3. Creating Satellite channels on Satellite server.\\r\\n4. Automation via shell scripting and mysql DB support.\\r\\n5. Troubleshooting the customized applications.\\r\\ncompany - Tsys Limited\\r\\ndescription - Type: Development, automation & Monitoring.\\r\\nPlatform: Linux/Unix, windows\\r\\nSoftware: mysql database, shell scripting.\\r\\n\\r\\nHere my responsibility was to provide access to the users on RHDS, Cvs and dot project servers.\\r\\nIt also included providing access to users on dev/prod VDI servers. Handling mysql database and shell scripting to automate the tasks.\\r\\n\\r\\nMy responsibilities in this project included:\\r\\n1. Requirements and Analysis: Understanding the requirements of the project and planning the environment and the access required.\\r\\n2. Implementing mysql replication over linux servers.\\r\\n3. Fine tuning the existing applications.\\r\\n4. Testing & debugging the scripts for any errors.\\r\\ncompany - Patni Computer Systems Limited\\r\\ndescription - Project: CPI\\r\\nType: Development, automation & Monitoring.\\r\\nPlatform: P8 Filenet, Linux/Unix, IBM AIX\\r\\nSoftware: Sound knowledge of HTML, shell scripting.\\r\\nClient: Genworth Financial\\r\\nDuration: 2 yrs 2 months.\\r\\nRole: Senior System Engineer\\r\\n\\r\\nCPI is a Maintenance Project that caters to maintenance/enhancements of different applications, which are a part of Genworth Imaging Solutions. It has different applications that process the scanned Insurance documents sent from different Providers and stores the information in Oracle Database and images in P8 Filenet. It has multiple applications to generate reports to be sent to providers.\\r\\n\\r\\nAdministration Support:\\r\\nâ¢ Providing support to the L1 engineers.\\r\\nâ¢ Monitoring P8 Filenet application.\\r\\nâ¢ Handling Tickets raised by the users.\\r\\nâ¢ Administration of the 10 Linux Proxy servers and mysql servers.\\r\\nâ¢ Implementing mysql replication.\\r\\nâ¢ Checking the logs of the sites visited by the users and the data downloaded.\\r\\n\\r\\nMysql / Oracle / SQL Support:\\r\\nâ¢ Preparing SQL queries for the client users.\\r\\nâ¢ Handling Oracle database.\\r\\nâ¢ Testing insert, select, update queries over servers and deploying over production.\\r\\nâ¢ Handling the bugs raised by the users.\\r\\nâ¢ Implementing mysql replication over linux servers.\\r\\nâ¢ Taking database backup through mysql dump.\\r\\n\\r\\nApplication Support:\\r\\nâ¢ To make sure that the customer applications like eProcess, Trexo are working fine.\\r\\nâ¢ To make sure all the customized filenet instances are working fine.\\r\\nâ¢ Writing scripts to automate few of the applications.\\r\\n\\r\\nShell scripts for Automation:\\r\\nâ¢ Wrote shell script to delete the logs older than five days which was successfully deployed over Production servers.                                                                                                                                                                                                                                                                                                                                                                                                                                                                                                                                                                                                                                                                                                                                                                                                                                                                                                                                                                                                                                                                                                                                                                                                                                                                                                                                                                                                                                                                                                                                                                                                                                                                                                                                                                                                                                                                                                                                                                                                                                                                                                                                                                                                                                                                                                                                                                                                                                                                                                                                                                                                                                                                                                                                                                                                                                                                                                                                                                                                                                                                                                                                                                                                                                                                                                                                                                                                                                                                                                                                                                                                                                                                                         17\n",
       "                 Software Proficiency: â¢ Languages: Basics of C, SQL, PL/SQL,JAVA,JAVAEE,Javascript,HTML,CSS,jquery,mysql,Spring ,Hibernate. â¢ Software Tools: Xillinx, Modelsim, Matlab, Multisim. â¢ Operating Systems: Windows XP, Vista, 07, 08, Ubuntu. Project Profile: B.E. Project FPGA Implementation of Team Size: 4. Role: Programmer. AES Algorithm AES is Advanced Encryption Standard which is used in cryptography by which we can protect our data. It encrypted by a Secret Key. T.E. project Sorting Robot. Team Size: 3. Role: Mechanism designer. The TCS 230 sensor sorts the RGB color balls according to their color. Diploma Project RFID Based Student Team Size: 4. Role: Interface. Attendance System Using GSM. In this student show RFID card of his own and then message send via GSM to their parent that his ward is present.Education Details \\r\\nMay 2016 B.E. Savitribai Phule Pune, Maharashtra Pune University\\r\\nMarch 2010 S.S.C   Maharashtra Board\\r\\nDevOps Engineer \\r\\n\\r\\n\\r\\nSkill Details \\r\\nC- Exprience - 6 months\\r\\nC++- Exprience - 6 months\\r\\nSql- Exprience - 6 months\\r\\nPl/Sql- Exprience - 6 months\\r\\nCore Java- Exprience - 6 months\\r\\nJavascript- Exprience - Less than 1 year months\\r\\nHTML- Exprience - Less than 1 year months\\r\\nCSS- Exprience - Less than 1 year months\\r\\nJquery- Exprience - Less than 1 year months\\r\\nJavaEE- Exprience - Less than 1 year months\\r\\nMysql- Exprience - Less than 1 year months\\r\\nPython- Exprience - 6 monthsCompany Details \\r\\ncompany - Parkar Consulting and Labs\\r\\ndescription - I'm working on the DevOps team in Parkar Consulting and Labs. I have hands on the AWS as well as Python                                                                                                                                                                                                                                                                                                                                                                                                                                                                                                                                                                                                                                                                                                                                                                                                                                                                                                                                                                                                                                                                                                                                                                                                                                                                                                                                                                                                                                                                                                                                                                                                                                                                                                                                                                                                                                                                                                                                                                                                                                                                                                                                                                                                                                                                                                                                                                                                                                                                                                                                                                                                                                                                                                                                                                                                                                                                                                                                                                                                                                                                                                                                                                                                                                                                                                                                                                                                                                                                                                                                                                                                                                                                                                                                                                                                                                                                                                                                                                                                                                                                                                                                                                                                                                                                                                                                                                                                                                                                                                                                                                                                                                                                                                                                                                                                                                                                                                                                                                                                                                                                                                                                                                                                                                                                                                                                                                                                                                                                                                                                                                                                                                                                                                                                                                                                                                                                                                                                                                                                                                                                                                                                                                                                                                                                                                                                                                                                                                                                                                                                                                                                                                                                                                                                                                                                                                                                                                                                                                                                                                                                                                                                                                                                     17\n",
       "Java Developer   TECHNICALSKILLS SpringMVC, Hibernate, JDBC, Java, J2EE, AzureWeb SunTechnologies Services, JSP, Struts, Servlet, RestApi. Scripting JavaScript, AJAX, HTML, JSON. OpenSourceTechnologies PHP. Database MsSQL, MySQL, Oracle. WebServers ApacheTomcatServer. Internettechnologiesand OnesignalWebPushNotifications, AzurewebServices, frameworks IONIC, HTML, JSON OperatingSystem WindowsServer2012R2, WinXP/7/8.1/10, Linux, Mac OS Education Details \\r\\nAugust 2013 to July 2016 BE Computer Engineering Nashik, Maharashtra Late G.N. Sapkal COE Nashik\\r\\nJuly 2009 to June 2013 Diploma Computer technology Nashik, Maharashtra K K Wagh Polytechnic  Nashik\\r\\nJava developer \\r\\n\\r\\nJava Developer\\r\\nSkill Details \\r\\nAJAX- Exprience - 12 months\\r\\nDATABASE- Exprience - 24 months\\r\\nHTML- Exprience - 24 months\\r\\nJ2EE- Exprience - 6 months\\r\\nJAVA- Exprience - 24 months\\r\\nSpring MVC- Exprience - 12 months\\r\\nIonic 3- Exprience - 6 months\\r\\nAngular JS- Exprience - 6 months\\r\\nSpring- Exprience - Less than 1 year months\\r\\nJava- Exprience - Less than 1 year monthsCompany Details \\r\\ncompany - Replete business solutions pvt ltd\\r\\ndescription - Working as Java developer in spring MVC, MySQL, MsSql, Java, J2EE, Ajax, Javascript, ionic 3 framework, angular js etc. Technologies.                                                                                                                                                                                                                                                                                                                                                                                                                                                                                                                                                                                                                                                                                                                                                                                                                                                                                                                                                                                                                                                                                                                                                                                                                                                                                                                                                                                                                                                                                                                                                                                                                                                                                                                                                                                                                                                                                                                                                                                                                                                                                                                                                                                                                                                                                                                                                                                                                                                                                                                                                                                                                                                                                                                                                                                                                                                                                                                                                                                                                                                                                                                                                                                                                                                                                                                                                                                                                                                                                                                                                                                                                                                                                                                                                                                                                                                                                                                                                                                                                                                                                                                                                                                                                                                                                                                                                                                                                                                                                                                                                                                                                                                                                                                                                                                                                                                                                                                                                                                                                                                                                                                                                                                                                                                                                                                                                                                                                                                                                                                                                                                                                                                                                                                                                                                                                                                                                                                                                                                                                                                                                                                                                                                                                                                                                                                                                                                                                                                                                                                                                                                                                                                                                                                                                                                                                                                                                                                                                                                                                                                                                                                                                                                                                                                                                                                                                                                                                                                                                                                                                                           12\n",
       "                                                                                                                                                                                                                                                                                                                                                                                                                                                                                                                                                                                                                                                                                                                                                                                                                                                                                                                                                                                                                                                                                                                                                                                                                                                                                                                                                                                                                                                                                                                                                                                                                                                                                                                                                                                                                                                                                                                                                                                                                                                                                                                                                                                                                                                                                                                                                                                                                                                                                                                                                                                                                                                                                                                                                                                                                                                                                                                                                                                                                                                                                                                                                                                                                                                                                                                                                                                                                                                                                                                                                                                                                                                                                                                                                                                                                                                                                                                                                                                                                                                                                                                                                                                                                                                                                                                                                                                                                                                                                                                                                                                                                                                                                                                                                                                                                                                                                                                                                                                                                                                                                                                                                                                                                                                                                                                                                                                                                                                                                                                                                                                                                                                                                                                                                                                                                                                                                                                                                                                                                                                                                                                                                                                                                                                                                                                                                                                                                                                                                                                                                                                                                                                                                                                                                                                                                                                                                                                                                                                                                                                                                                                                                                                                                                                                                                                                                                                                                                                                                                                                                                                                                                                                                                                                                                                                                                                                                                                                                                                                                                                                                                                                                                                                                                                                                                                                                                                                                                                                                                                                                                                                                                                                                                                                                                                                                                                                                                                    ..\n",
       "Advocate         Education Details \\r\\n B.Com, LL.B.,   University of Clacutta, University of Burdwan\\r\\nADVOCATE \\r\\n\\r\\n\\r\\nSkill Details \\r\\nTaxation matters Income Tax GST P Tax Accounts- Exprience - Less than 1 year months\\r\\nFiling of Income Tax Returns GST Returns e-TDS AIR and more- Exprience - Less than 1 year monthsCompany Details \\r\\ncompany - own practice\\r\\ndescription - 1. Drafting and preparation of plaint, Accounts and move before relevant Authority to hear the cases                                                                                                                                                                                                                                                                                                                                                                                                                                                                                                                                                                                                                                                                                                                                                                                                                                                                                                                                                                                                                                                                                                                                                                                                                                                                                                                                                                                                                                                                                                                                                                                                                                                                                                                                                                                                                                                                                                                                                                                                                                                                                                                                                                                                                                                                                                                                                                                                                                                                                                                                                                                                                                                                                                                                                                                                                                                                                                                                                                                                                                                                                                                                                                                                                                                                                                                                                                                                                                                                                                                                                                                                                                                                                                                                                                                                                                                                                                                                                                                                                                                                                                                                                                                                                                                                                                                                                                                                                                                                                                                                                                                                                                                                                                                                                                                                                                                                                                                                                                                                                                                                                                                                                                                                                                                                                                                                                                                                                                                                                                                                                                                                                                                                                                                                                                                                                                                                                                                                                                                                                                                                                                                                                                                                                                                                                                                                                                                                                                                                                                                                                                                                                                                                                                                                                                                                                                                                                                                                                                                                                                                                                                                                                                                                                                                                                                                                                                                                                                                                                                                                                                                                                                                                                                                                                                                                                                                                                                                                                                                                                                                                                                                                                                                                                                                                                                                                                                                                              2\n",
       "DevOps Engineer  Total IT Experience 15 years. Core expertise in Data Base Design, PHP, Python, MySql, JavaScript, HTML 5, Ajax, Jquery, XML, Agile Methodology, DevOps Methodology, Scrum Framework, JIRA Tool, GIT, Bitbucket, Anjular JS 1, Angular JS 2, Core Java, J2EE. Education Details \\r\\nApril 2004 MCM Computer Management Pune, Maharashtra Pune University\\r\\nApril 1998 B.Sc Maths  Kerala University\\r\\nProject Manager \\r\\n\\r\\nProject Manager\\r\\nSkill Details \\r\\nData Base Design, PHP, Python, MySql, JavaScript, HTML, Ajax, XML, Agile Methodology, DevOps Methodology, Scrum Framework, JIRA Tool, GIT, Bitbucket, Jquery,  AngularJs, Amazon MWS , Bootstrap, Node.js, Laravel, Scrum- Exprience - 120 monthsCompany Details \\r\\ncompany - Knoxed Infotech Pvt. Ltd.\\r\\ndescription - ï· Client interaction\\r\\nï· Maintain work processes\\r\\nï· Creates project plans through Agile Model & Methodology\\r\\nï· Maintains project objectives\\r\\nï· Working with multi-profiled teams of technical and non technical stakeholders\\r\\nï· Monitors production and quality to customer/stakeholder/sponsor standards\\r\\nï· Conduct office management tasks\\r\\nï· Ensuring that the day-to-day operations of the business run smoothly\\r\\nï· Introducing key performance indicators (KPI's) and ensuring that these measurements are tracked\\r\\nand reviewed on a regular basis\\r\\nï· Prepare, revise and submit weekly-monthly reports, budgets and other documentation as\\r\\nnecessary\\r\\nï· Document current policies and procedures in all departments as well as implement new procedures\\r\\nfor improvement\\r\\nï· Maintain smooth running of the office, filling in where needed\\r\\nï· Implement quality management and regulatory compliance strategies\\r\\nï· Dealing with HR related tasks\\r\\nï· Administering payroll\\r\\nï· Perform training sessions\\r\\nï· Regular meetings with Top Management\\r\\nProject Undertaken : Internal ERP system For Knoxed Ltd, UK, With PHP, Mysql, Ajax, XML,\\r\\nAmazon AWS, Raspberry pi Server, Python.\\r\\ncompany - Venturus International\\r\\ndescription - ï· Client interaction\\r\\nï· Creates project plans through Agile Model & Methodology\\r\\nï· Manage teamâs workload and workflow\\r\\nï· Allocate and track resources as required\\r\\nï· Set and monitor deadlines\\r\\nï· QC\\r\\nï· Maintain tasks and jobs on task management system\\r\\nï· Conduct research and development\\r\\nï· Create new systems, databases and websites as necessary\\r\\nProject Undertaken : Internal ERP system For Knoxed Ltd, UK, With PHP, Mysql, Ajax, XML,\\r\\nAmazon AWS\\r\\ncompany - SmashingDay\\r\\ndescription - ï· Client interaction\\r\\nï· Creates project plans through Agile Model & Methodology\\r\\nï· Manage teamâs workload and workflow\\r\\nï· Allocate and track resources as required\\r\\nï· Set and monitor deadlines\\r\\nï· Project documentation\\r\\nï· Conduct and maintain appraisals and progress of each employee\\r\\nï· Adhere to deadlines as necessary\\r\\nï· Maintain work logs\\r\\nï· Conduct research and development\\r\\nï· Create new systems, databases and websites as necessary\\r\\nProject Undertaken :\\r\\na) www.SmashingDay.com\\r\\nb) www.viralsocials.com\\r\\ncompany - Xento Systems Pvt. Ltd\\r\\ndescription - ï· Client interaction\\r\\nï· Creates project plans through Agile Model & Methodology\\r\\nï· Manage teamâs workload and workflow\\r\\nï· Allocate and track resources as required\\r\\nï· Set and monitor deadlines\\r\\nï· QC\\r\\nï· Maintain tasks and jobs on task management system\\r\\nï· Conduct research and development\\r\\nï· Create new systems, databases and websites as necessary\\r\\nProject Undertaken :\\r\\na) www.familylink.com\\r\\nb) www.propertysolutions.com\\r\\nc) www.speedyceus.com\\r\\nd) www.ceus-nursing.com\\r\\ncompany - STP Global Solutions Pvt. Ltd.\\r\\ndescription - ï· Client interaction\\r\\nï· Creates project plans through Agile Model & Methodology\\r\\nï· Manage teamâs workload and workflow\\r\\nï· Allocate and track resources as required\\r\\nï· Set and monitor deadlines\\r\\nï· Conduct and maintain appraisals and progress of each employee\\r\\nï· QC\\r\\nï· Maintain tasks and jobs on task management system\\r\\nï· Conduct research and development\\r\\nï· Create new systems, databases and websites as necessary\\r\\nProject Undertaken :\\r\\na) www.stplafricaonline.com\\r\\nb) www.stplafrica.com\\r\\nc) www.1stexpert.com\\r\\nd) www.jcca-net.org\\r\\ne) www.rimsys.eu\\r\\nf) www.prayerlister.org\\r\\ncompany - Promark Infotech Pvt. Ltd\\r\\ndescription - ï· Development & Design\\r\\nï· Create new systems, databases and websites as necessary\\r\\nProject Undertaken :\\r\\na) www.justbe.com/\\r\\nb) www.mtpian.com/\\r\\nc) www.sababa.nl/booking/\\r\\nd) www.physicaltherapy-hiu.com\\r\\ncompany - 7cees Group\\r\\ndescription - ï· Development & Design\\r\\nï· Create new systems, databases and websites as necessary\\r\\nProject Undertaken :\\r\\na) Golwin-reality\\r\\nb) Maza                                                                                                                                                                                                                                                                                                                                                                                                                                                                                                                                                                                                                                                                                                                                                                                                                                                                                                                                                                                                                                                                                                                                                                                                                                                                                                                                                                                                                                                                                                                                                                                                                                                                                                                                                                                                                                                                                                                                                                                                                                                                                                                                                                                                                                                                                                                                                                                                                                                                                                                                                                                                                                                                                                                                                                                                                                                                                                                                                                                                                                                                                                                                                                                                                                                                                                                                                                                                                                                                                                                                                                                                                                                                                                                                                                                                                                                           1\n",
       "                 Technical Skills Key Skills MS Technology .Net, SharePoint, MS SQL and Oracle PL/SQL Project Management & Execution Cloud Computing using Windows Azure and Amazon AWS/ EC2 Cloud XML/XAML/XSLT, HTML5, DHTML, CSS3, JavaScript/JQuery/JSON, AngularJS, Web API, OData Service, VBScript, Node JS, Handling Dynamic QA Activities, Project Delivery Frameworks UI Design and Mobile Development, JAVA, JSP, SWING, J2EE Service Oriented Architecture (SOA), Web Service/WCF Service/Web API, Requirement Gathering Design Pattern like MVC, MVP, Abstract Factory OOAD with UML Implementation .NET SAP Connector to interact with SAP through ASP.NET Client Management SAP Web Channel and SAP Enterprise Portal Environment Android, iOS, Team Foundation Server 2010/12(TFS), GitHub, IBM Rational Key Account Management DevOps, Team Forge and SharePoint Portal Administration /Development, CollabNet, JIRA. IOT Implementation, Web/Data analytics, Working with the road map of Machine learning and AI. Expertise BI tools like Crystal report, Escalation Management SSRS, Tableau, Micro Strategy, QlikView. IT Network/Infrastructure Monitoring tool Centreon, Cisco Meraki, BizTalk BAM. Team Building & Leadership Liaison & Coordination Soft Skills Reporting & Documentation Leader Technical architect Time Management Thinker Collaborator Planner Information Security management Communicator Quality assurance Career Timeline (Recent 5 Companies) Reliance ADA Annet Technologies Aditya Birla Group as Software as Project Group as Project consultant Lead/Technical Manager Architect 2006-2007 2008-2009 2009-2012 2012-2013 2013-till date Northbound eClerx Software LLC as Service as Programmer Technical Project Analyst ManagerEducation Details \\r\\nJanuary 1998 Bachelor of Art Economics Dibrugarh, Assam, IN Dibrugarh University\\r\\n MBA Information Technology  Sikkim Manipal University\\r\\n  Software Engineering and Computer Science Pune, Maharashtra NIIT\\r\\nProject Manager \\r\\n\\r\\nProject Manager - Aditya Birla Group\\r\\nSkill Details \\r\\nMICROSOFT SHAREPOINT- Exprience - 147 months\\r\\nSHAREPOINT- Exprience - 147 months\\r\\nSQL- Exprience - 92 months\\r\\nASP- Exprience - 79 months\\r\\nASP.NET- Exprience - 76 monthsCompany Details \\r\\ncompany - Aditya Birla Group\\r\\ndescription - Reporting to Vice President)\\r\\ncompany - OPEX., Monitoring multiple DB server, Web server and Cloud base\\r\\ndescription - Period: Apr 2013 to till Date\\r\\nWorking with: â¢ Project management processes in ongoing projects. Coordinating with different projects Team (Internal\\r\\nDevelopment team and Vendor side team) and other QA activities.\\r\\nâ¢ Information security audit. Budgeting CAPEX/OPEX., Monitoring multiple DB server, Web server and Cloud base servers Resource utilization in Networking infrastructure using different Hardware/Networking surveillance tools.\\r\\nâ¢ Tracking different team projects activities and involved with generating Final monthly report with different KPI for organization higher authority.\\r\\nâ¢   Managing all the SharePoint Portal Admin activities and all the Project Functional, Technical and Business documents.\\r\\nâ¢   Involved in Technology Road map group to upgrade new technology like IOT, Virtual reality, Wearable technology, Machine learning/AI, 3D Printing.\\r\\n\\r\\nAt eClerx Software Service Mumbai\\r\\ncompany - eClerx Software Service\\r\\ndescription - \\r\\ncompany - Dell Site Search/Natural Search DB\\r\\ndescription - Environment: ASP.NET 4.0, C#, WCF, SSRS, SQL Server 2008 R2\\r\\nAt Annet Technologies Mumbai\\r\\ncompany - NextGen Enterprise\\r\\ndescription - ARIA) and 2) Re-manage Portal Integration in Apple iPhone/iPad and Different Android Devices\\r\\nDomain- Real State, Period: Mar 2011 - Oct 2012\\r\\nEnvironment: ASP.NET 4.0, C#, WCF, WWF, JQuery, JSON, JavaScript, HTML 5, CSS3, Windows Azure Cloud, SharePoint\\r\\ncompany - Annet Technologies\\r\\ndescription - Key Result Areas:\\r\\nAdministering project progress as per scheduled deadlines for various tasks and taking necessary steps for ensuring completion within time and effort parameters\\r\\nWorking towards mapping requirements & providing best solutions for evaluating & defining scope of project and finalizing project requirements\\r\\nInterfacing with clients for business gathering, conducting system analysis & finalizing technical specifications\\r\\nVerifying the project documentation (Technical/Functional); using SharePoint Documents Library Environment and performing all the SharePoint administrative activities\\r\\n\\r\\nSignificant Accomplishments:\\r\\nRolled out project performance metrics reporting, implemented profitability improvement plans and enhanced operational efficiency\\r\\nReceived the following awards: o Excellent Design and On-time Delivery Award o Design and Delivery Excellence Award\\r\\n\\r\\nPrevious Experience\\r\\ncompany - Genentech, Biogen, Astellas Pharma, Polaris\\r\\ndescription - Client: Genentech, Biogen, Astellas Pharma, Polaris, New York, USA\\r\\nEnvironment: ASP.NET 3.5, C#, N-Hibernet, WCF, WWF, JavaScript, JQuery, BizTalk Server 2009, SQL Server 2008 R2\\r\\n\\r\\nAt Northbound LLC Sunnyvale California\\r\\ncompany - iOS\\r\\ndescription - SQL Server 2008R2, Android, iOS\\r\\ncompany - Logistic Transport System, Ohio\\r\\ndescription - USA\\r\\nEnvironment: ASP.NET, C# 3.5, JavaScript, NUnit Test, Telerik Controls, SQL Server 2005, T-SQL, MOSS 2007, SSIS,\\r\\nSSRS, BizTalk2006, Crystal Report, N-Hibernet, Dreamweaver\\r\\ncompany - Northbound LLC\\r\\ndescription - \\r\\ncompany - Biz Automation CRM\\r\\ndescription - California, USA\\r\\nEnvironment: ASP.NET 3.5, C#, SQL Server 2005, Android/iOS Development Platform, XML, XSLT, JavaScript, JQuery,\\r\\nJSON, SharePoint Design, WCF, WWF, SharePoint 2007, Performance Point, SSRS\\r\\ncompany - Wachovia, North Carolina USA\\r\\ndescription - Environment: ASP.NET, C#, WCF, SQL Server 2005, Web Parts, JavaScript, AJAX\\r\\n\\r\\nAt Reliance ADA Group Mumbai\\r\\nTitle: 1) Complain Management System and 2) Company Information System\\r\\ncompany - Domain- Manufacturing and Human Resource\\r\\ndescription - Environment: ASP.NET, C#, Oracle 8i, PL/SQL, Crystal Report, SAP Connector, VPN\\r\\ncompany - Reliance ADA Group\\r\\ndescription - \\r\\ncompany - PF Trust System\\r\\ndescription - Environment: VB.NET, XML, Oracle 9i, PL/SQL, Toad, Crystal Report 11\\r\\n\\r\\nSure Solution - Prasanna Group of Company IT Pune\\r\\ncompany - Prasanna Group\\r\\ndescription - \\r\\ncompany - Online Bus Booking Portal\\r\\ndescription - Environment: ASP.NET, C#, SQL Server 2005, Web Services, Web Parts, MS Office SharePoint Design, AJAX and Java cript\\r\\nAt Info Dynamic Software System Pvt. Ltd. Pune\\r\\n\\r\\nTitle: Info-Banking / E Banking\\r\\nDomain- Banking Period: Jan 2005 - Aug 2005\\r\\nEnvironment: VB6, Oracle 8i, PL/SQL, Crystal Report, Java JSP/Servlet/Swing.\\r\\n\\r\\nAt PAN Software System Pvt. Ltd. Pune\\r\\nTitle: E-commerce Site for Online Sales and Purchase\\r\\ncompany - Info Dynamic Software System Pvt. Ltd\\r\\ndescription - \\r\\ncompany - ZD Doll Inc\\r\\ndescription - Newcastle, UK\\r\\ncompany - PAN Software System Pvt. Ltd\\r\\ndescription - \\r\\ncompany - Online Procurement of Materials\\r\\ndescription - \\r\\ncompany - Shipping Company\\r\\ndescription - Tokyo Based, Japan\\r\\nEnvironment: Java, JSP/Servlet, CSS, JavaScript, SQL Server 2000, T-SQL\\r\\nTitle: Studio Automation System\\r\\nDomain- Multimedia Period: Jan 2004 - May 2004\\r\\nEnvironment: VB 6, VC++, MS SQL Server, MS Data Report, Macromedia Flash, Fire works\\r\\n\\r\\nAt Solid State Technologists (I) Pvt. Ltd. Pune\\r\\ncompany - National Dairy Development Board\\r\\ndescription - Environment: C++, VB6, SQL2000, Lotus Notes, Crystal Report 8, MS Active Report 2.0\\r\\ncompany - Solid State Technologists (I) Pvt. Ltd\\r\\ndescription - \\r\\ncompany - Shell/Bharat Petroleum\\r\\ndescription - Title: Computerized Fuel Density Measurement Automation System\\r\\nDomain - Manufacturing and Automation Period: Dec 2002 - Mar 2003\\r\\nClient: Shell/Bharat Petroleum\\r\\nEnvironment: C++, VC ++, MATLAB, VB6, SQL Server 2000, Crystal Report\\r\\n\\r\\nTitle: CMCS\\r\\nDomain - Finance and Accounting Period: June 2002 - Nov 2002\\r\\nEnvironment: VB6, SQL Server 2000, Crystal Report\\r\\n\\r\\nTitle: Food Testing System\\r\\ncompany - Solid State Technologists (I) Pvt. Ltd\\r\\ndescription - Environment: VB .net, SQL Server 2000, Crystal Report\\r\\n\\r\\nTitle: Customer Care System\\r\\ncompany - Himalaya Industries\\r\\ndescription - Environment: ASP .Net, C#, SQL Server 2000, Crystal Report\\r\\ncompany - MAPCO India Ltd and BERCO\\r\\ndescription - Environment: VB6, Oracle, Active/ Data Report     1\n",
       "                 TECHNICAL SKILLS â¢ HP ALM, RTC and JIRA â¢ AS400 (iSeries) with SQL â¢ Test Automation: X- Framework (In hours HSBC Framework), UFT and LISA â¢ Test Data Automation - CATDM â¢ Test Scheduling - Jenkins and Maven â¢ Test Document Versioning - Confluence and SharePoint.Education Details \\r\\nJanuary 2002 Bachelor of Engineering Computer Engineering Mumbai, MAHARASHTRA, IN Mumbai University\\r\\nJanuary 1999 Diploma Computer Technology Mumbai, MAHARASHTRA, IN Maharashtra State Board of Technical Education\\r\\nProject Manager(Global Test Manager) \\r\\n\\r\\nProject Manager(Global Test Manager)\\r\\nSkill Details \\r\\nAS400- Exprience - 25 months\\r\\nISERIES- Exprience - 25 months\\r\\nMICROSOFT SHAREPOINT- Exprience - 6 months\\r\\nSCHEDULING- Exprience - 6 months\\r\\nSHAREPOINT- Exprience - 6 monthsCompany Details \\r\\ncompany - CAREER TIMELINE\\r\\ndescription - HSBC Software India Pvt. Ltd.Pune, India   Project Manager(Global Test Manager)\\r\\ncompany - Disha Technologies\\r\\ndescription - \\r\\ncompany - Total Solution (I) Pvt. Ltd\\r\\ndescription - Key Deliverables Across The Tenure\\r\\nAs a Global Test Manager/Project Management:\\r\\nâ¢ Acting as Global Test Manager, steering a team of 25+ resources across the globe\\r\\nâ¢ Spearheading the testing teams in India, China, Malaysia and Poland\\r\\nâ¢ Current role involves entire test delivery of large programs under banking domain which includes leading a team comprising of individuals (Client & Vendor) from functional (Regression, Integration) & shared services (Security, Performance, accessibility and Automation) groups\\r\\nâ¢ Defining and devising the \"HSBC Core Banking\" IT Transformation strategies from solution to execution level.\\r\\nâ¢ Experience in latest specialize testing methods - CBIL - API, Conversion, Cloud, Digital UI, Infrastructure, Exploratory and Accessibility Testing.\\r\\nâ¢ Experienced in Planning the OAT and various non-functional like performance and volume testing of Core banking.\\r\\nâ¢ Coordinating with the regional business and testing teams to map their testing approach\\r\\nâ¢ Following with various teams to ensure end to end release is successful and a quality product is delivered to production.\\r\\nâ¢ Steering the Global product testing, regional deployments testing and  extending support for UAT and live proving\\r\\nâ¢ Technical lead to implement the in house \"Test Automation\" framework (X-framework) solution on AS400 (iSeries) system.\\r\\nâ¢ Managing the implementation of Test automation to enable DevOps via tools Cucumber & Selenium (BDD), UFT and TOSCA for function testing\\r\\nâ¢ Leading the CI/CD implementation by executing automated scripts from Jenkins\\r\\nâ¢ Working on Test Data Management by using CA TDM and Internal HSBC Tool)\\r\\nâ¢ Handling tasks pertaining to Resource forecasting, effort estimation and resource on boarding process\\r\\nâ¢ Ensuring seamless communication with vendor partners to arrange for resource onboarding based on the forecasting\\r\\nâ¢ Reviewing the project progress on a daily basis; implementing corrective measures to ensure the project is ontrack\\r\\nâ¢ Overseeing people management tasks comprise monthly 1:1 with leads, reviews\\r\\nâ¢ Providing conflict resolution when required                                                                                                                                                                                                                                                                                                                                                                                                                                                                                                                                                                                                                                                                                                                                                                                                                                                                                                                                                                                                                                                                                                                                                                                                                                                                                                                                                                                                                                                                                                                                                                                                                                                                                                                                                                                                                                                                                                                                                                                                                                                                                                                                                                                                                                                                                                                                                                                                                                                                                                                                                                                                                                                                                                                                                                                                                                                                                                                                                                                                                                                                                                                                                                                                                                                                                                                                                                                                                                                                                                                                                                                                                                                                                                                                                                                                                                                                                                                                                                                                                                                                                                                                                                                                                                                                                                                                                                                                                                                                                                                                                                                                                                                                                                                                                                                                                                                                                                                                                                                                                                                                                                                                                                                                                                                                                                                                                                                                                                                                                                                                      1\n",
       "                 Core skills â¢ Project / Program Management â¢ Agile / Scrum Management â¢ Risk /Client Management â¢ Process Improvements â¢ Proposals/RFE â¢ Selenium â¢ RALLY / IBM TD Platform â¢ Python â¢ DevOps / DevSecOps â¢ SAFe - Agile Craft â¢ Delivery / Test Management â¢ Project / Program Finance â¢ Profit Maximization â¢ Internal / External Audits â¢ Software Testing / Quality Assurance â¢ Visual Basic 6.0 â¢ MS-SQL Server / Oracle 8/8i â¢ Conformiq â¢ HP QC / QTP â¢ Crystal Report 8.5 Linguistic Skills English Hindi Marathi Tulu Education Details \\r\\nJanuary 2013    Harvard\\r\\nJanuary 2004  Software Engineering  Aptech\\r\\nJanuary 2001 Bachelor of Commerce Commerce Mumbai, Maharashtra Mumbai University\\r\\nProject Manager \\r\\n\\r\\nProject Manager - AT&T\\r\\nSkill Details \\r\\nTESTING- Exprience - 63 months\\r\\nORACLE- Exprience - 6 months\\r\\nSQL- Exprience - 6 months\\r\\nAUDITS- Exprience - 6 months\\r\\nCLIENT MANAGEMENT- Exprience - 6 monthsCompany Details \\r\\ncompany - AT&T\\r\\ndescription - Thunderbird program is a One-Stop-Test-Shop catering to AT&T's Enterprise-wide business critical applications. As part of this Fixed Price engagement various types of testing like System, Regression, Sanity and UAT support gets executed through Agile Methodologies on applications under Billing and Sales domain. The project has various critical applications as listed below with a team size of 80+ members.\\r\\nSales Express: An iPad & Browser based Mobile Sales application used by Sales Representatives & Service/Solution providers to sell Enterprise Products/Solutions\\r\\nESIGN: Allows customer to sign and AT&T to countersign digital version of contract document\\r\\nAMPD: Enterprise billing application through which AT&T offers new and emerging billing products to the Business community\\r\\nBEST: Business Solution application which performs consolidated billing and reporting for CRU Billing and Reporting Foundation Accounts\\r\\nBIZCOMP: Comp Engine for business that supports the commission calculations for Enterprise Business and Small-Business sales force via Revenue and Unit based plans\\r\\nFAST: Provides rate discounts to eligible Schools and Libraries\\r\\nCXMT: Lets customers manage their Centrex line and feature arrangements of their services without going through the standard service-order procedure.\\r\\n\\r\\nKey responsibilities\\r\\nâ¢ Manage and lead all aspects of Transition / Pre-Transition comprising multiple vendors\\r\\nâ¢ Transition Drill down sessions, Forward/Reverse Shadow phases and Reverse Presentation\\r\\nâ¢ Transition Documentation & signoff of SMP & System Appreciation Document etc\\r\\nâ¢ Measure & track testing metrics scorecard as part of Vendor Quality Index (VQI) initiative of AT&T\\r\\nâ¢ Measure and track operating metrics like Onsite Subcon Index, Offshoring Index, Leakage Index, Utilization Index and Tail Index\\r\\nâ¢ Manage, Track and Submit Project Monthly Financials & Invoicing\\r\\nâ¢ Ensure 100% compliance to client / organization's quality and security processes, policies and SLAs\\r\\nâ¢ Plan, manage and mitigate Risks\\r\\nâ¢ Achieve Automation targets and SLAs using ConformiQ, Selenium & Oscar Tools\\r\\nâ¢ Participate in proposal preparations to expand revenue and new business developments\\r\\nâ¢ Manage & Track Work Allocation, Resourcing, Issue Resolution and Testing activities for the project\\r\\nâ¢ Ensure Monthly Delivery / TL9K Metrics and CSL-KMs are submitted on time\\r\\nâ¢ PMR, Internal Quality / Security Group, SQA, Quality Gates and external Ernst & Young / TL9K Audit\\r\\nâ¢ Share weekly highlight reports, Project Health Report and regular Dashboard Reporting activities\\r\\nâ¢ Prepare CSAT action plan for the team\\r\\nâ¢ Prepare and implement Business Continuity Plan for the project\\r\\nâ¢ Timely conduct of Business Continuity drills like Call Tree, Table Top and Project Rehearsal\\r\\nâ¢ Comparative analysis, Root Cause Analysis and Defect Prevention exercises for ST, E2E and UAT\\r\\nâ¢ Coordinate with Resource Management, Quality, Learning, Security, PMO and Business Unit\\r\\nâ¢ Sub-Contractors and Rebadged (Ex-AT&T) staff management\\r\\nâ¢ Participate in external technical interview / hiring drives for new engagements\\r\\ncompany - Esaya Software India Pvt Ltd\\r\\ndescription -                                                                                                                                                                                                                                                                                                                                                                                                                                                                                                                                                                                                                                                                                                                                                                                                                                                                                                                                                                                                                                                                                                                                                                                                                                                                                                                                                                                                                                                                                                                                                                                                                                                                                                                                                                                                                                                                                                                                                                                                                                                                                                                                                                                                                                                                                                                                                                                                                                                                                                                                                                                                                                                                                                                                                                                                                                                                                                                                                                                                                                                                                                                                                                                                                                                                                                                                                                                                                                                                                                                                                                                                                                                                                                                                                                                                                                                                                                                                                                                                                                                                                                                                                                                                                                                                                                                                                                                                                                        1\n",
       "Name: count, Length: 166, dtype: int64"
      ]
     },
     "execution_count": 12,
     "metadata": {},
     "output_type": "execute_result"
    }
   ],
   "source": [
    "data.value_counts()"
   ]
  },
  {
   "cell_type": "code",
   "execution_count": 14,
   "id": "9f72ce5e-bbcd-431e-af56-6598cd0912d3",
   "metadata": {},
   "outputs": [
    {
     "data": {
      "text/plain": [
       "Category\n",
       "Java Developer               84\n",
       "Testing                      70\n",
       "DevOps Engineer              55\n",
       "Python Developer             48\n",
       "Web Designing                45\n",
       "HR                           44\n",
       "Hadoop                       42\n",
       "Blockchain                   40\n",
       "ETL Developer                40\n",
       "Operations Manager           40\n",
       "Data Science                 40\n",
       "Sales                        40\n",
       "Mechanical Engineer          40\n",
       "Arts                         36\n",
       "Database                     33\n",
       "Electrical Engineering       30\n",
       "Health and fitness           30\n",
       "PMO                          30\n",
       "Business Analyst             28\n",
       "DotNet Developer             28\n",
       "Automation Testing           26\n",
       "Network Security Engineer    25\n",
       "SAP Developer                24\n",
       "Civil Engineer               24\n",
       "Advocate                     20\n",
       "Name: count, dtype: int64"
      ]
     },
     "execution_count": 14,
     "metadata": {},
     "output_type": "execute_result"
    }
   ],
   "source": [
    "data['Category'].value_counts()"
   ]
  },
  {
   "cell_type": "code",
   "execution_count": 16,
   "id": "dd02f057-a397-4927-a6c5-46f9b1814ce9",
   "metadata": {},
   "outputs": [
    {
     "data": {
      "text/plain": [
       "array(['Data Science', 'HR', 'Advocate', 'Arts', 'Web Designing',\n",
       "       'Mechanical Engineer', 'Sales', 'Health and fitness',\n",
       "       'Civil Engineer', 'Java Developer', 'Business Analyst',\n",
       "       'SAP Developer', 'Automation Testing', 'Electrical Engineering',\n",
       "       'Operations Manager', 'Python Developer', 'DevOps Engineer',\n",
       "       'Network Security Engineer', 'PMO', 'Database', 'Hadoop',\n",
       "       'ETL Developer', 'DotNet Developer', 'Blockchain', 'Testing'],\n",
       "      dtype=object)"
      ]
     },
     "execution_count": 16,
     "metadata": {},
     "output_type": "execute_result"
    }
   ],
   "source": [
    "data['Category'].unique()"
   ]
  },
  {
   "cell_type": "code",
   "execution_count": 11,
   "id": "a7d50773-5e75-460d-83c7-6899dc165ae5",
   "metadata": {},
   "outputs": [
    {
     "name": "stderr",
     "output_type": "stream",
     "text": [
      "[nltk_data] Downloading package stopwords to\n",
      "[nltk_data]     C:\\Users\\adiya\\AppData\\Roaming\\nltk_data...\n",
      "[nltk_data]   Package stopwords is already up-to-date!\n"
     ]
    },
    {
     "data": {
      "text/plain": [
       "True"
      ]
     },
     "execution_count": 11,
     "metadata": {},
     "output_type": "execute_result"
    }
   ],
   "source": [
    "import re\n",
    "import nltk\n",
    "nltk.download('stopwords')"
   ]
  },
  {
   "cell_type": "code",
   "execution_count": 18,
   "id": "fe2542a0-cb91-4c61-add6-15e435d24195",
   "metadata": {},
   "outputs": [],
   "source": [
    "from nltk.stem.porter import PorterStemmer"
   ]
  },
  {
   "cell_type": "code",
   "execution_count": 19,
   "id": "45fd0cd0-7123-4578-9e12-878721e4fe17",
   "metadata": {},
   "outputs": [],
   "source": [
    "# corpus= []\n",
    "def cleaning(text):\n",
    "    res= re.sub('http\\S+\\s', ' ', text)\n",
    "    res= re.sub('RT|cc', ' ', res)\n",
    "    res= re.sub('#\\S+\\s', ' ', res)\n",
    "    res= re.sub('@\\S+', '  ', res)  \n",
    "    res= re.sub('[%s]' % re.escape(\"\"\"!\"#$%&'()*+,-./:;<=>?@[\\]^_`{|}~\"\"\"), ' ', res)\n",
    "    res= re.sub(r'[^\\x00-\\x7f]', ' ', res) \n",
    "    res= re.sub('\\s+', ' ', res)\n",
    "    # cor\n",
    "    return res"
   ]
  },
  {
   "cell_type": "code",
   "execution_count": 20,
   "id": "2a5ad795-0d21-4659-9edb-0f49618cd64d",
   "metadata": {},
   "outputs": [],
   "source": [
    "# from nltk.stem.porter import PorterStemmer\n",
    "# ps = PorterStemmer()\n",
    "# corpus = []\n",
    "# for i in range(0, len(msg)):\n",
    "#     print(i)\n",
    "#     review = re.sub('[^a-zA-Z]', ' ', msg['title'][i])\n",
    "#     review = review.lower()\n",
    "#     review = review.split()\n",
    "    \n",
    "#     review = [ps.stem(word) for word in review if not word in stopwords.words('english')]\n",
    "#     review = ' '.join(review)\n",
    "#     corpus.append(review)"
   ]
  },
  {
   "cell_type": "code",
   "execution_count": 26,
   "id": "3b253fa3-b444-4d7b-a57e-170f33b0eca7",
   "metadata": {},
   "outputs": [
    {
     "data": {
      "text/plain": [
       "'Skills Programming Languages Python pandas numpy scipy scikit learn matplotlib Sql Java JavaScript JQuery Machine learning Regression SVM Na ve Bayes KNN Random Forest Decision Trees Boosting techniques Cluster Analysis Word Embedding Sentiment Analysis Natural Language processing Dimensionality reduction Topic Modelling LDA NMF PCA Neural Nets Database Visualizations Mysql SqlServer Cassandra Hbase ElasticSearch D3 js DC js Plotly kibana matplotlib ggplot Tableau Others Regular Expression HTML CSS Angular 6 Logstash Kafka Python Flask Git Docker computer vision Open CV and understanding of Deep learning Education Details Data Science Assurance Associate Data Science Assurance Associate Ernst Young LLP Skill Details JAVASCRIPT Exprience 24 months jQuery Exprience 24 months Python Exprience 24 monthsCompany Details company Ernst Young LLP description Fraud Investigations and Dispute Services Assurance TECHNOLOGY ASSISTED REVIEW TAR Technology Assisted Review assists in a elerating the review process and run analytics and generate reports Core member of a team helped in developing automated review platform tool from scratch for assisting E discovery domain this tool implements predictive coding and topic modelling by automating reviews resulting in reduced labor costs and time spent during the lawyers review Understand the end to end flow of the solution doing research and development for classification models predictive analysis and mining of the information present in text data Worked on analyzing the outputs and precision monitoring for the entire tool TAR assists in predictive coding topic modelling from the evidence by following EY standards Developed the classifier models in order to identify red flags and fraud related issues Tools Technologies Python scikit learn tfidf word2vec doc2vec cosine similarity Na ve Bayes LDA NMF for topic modelling Vader and text blob for sentiment analysis Matplot lib Tableau dashboard for reporting MULTIPLE DATA SCIENCE AND ANALYTIC PROJECTS USA CLIENTS TEXT ANALYTICS MOTOR VEHICLE CUSTOMER REVIEW DATA Received customer feedback survey data for past one year Performed sentiment Positive Negative Neutral and time series analysis on customer comments across all 4 categories Created heat map of terms by survey category based on frequency of words Extracted Positive and Negative words across all the Survey categories and plotted Word cloud Created customized tableau dashboards for effective reporting and visualizations CHATBOT Developed a user friendly chatbot for one of our Products which handle simple questions about hours of operation reservation options and so on This chat bot serves entire product related questions Giving overview of tool via QA platform and also give recommendation responses so that user question to build chain of relevant answer This too has intelligence to build the pipeline of questions as per user requirement and asks the relevant recommended questions Tools Technologies Python Natural language processing NLTK spacy topic modelling Sentiment analysis Word Embedding scikit learn JavaScript JQuery SqlServer INFORMATION GOVERNANCE Organizations to make informed decisions about all of the information they store The integrated Information Governance portfolio synthesizes intelligence across unstructured data sources and facilitates action to ensure organizations are best positioned to counter information risk Scan data from multiple sources of formats and parse different file formats extract Meta data information push results for indexing elastic search and created customized interactive dashboards using kibana Preforming ROT Analysis on the data which give information of data which helps identify content that is either Redundant Outdated or Trivial Preforming full text search analysis on elastic search with predefined methods which can tag as PII personally identifiable information social security numbers addresses names etc which frequently targeted during cyber attacks Tools Technologies Python Flask Elastic Search Kibana FRAUD ANALYTIC PLATFORM Fraud Analytics and investigative platform to review all red flag cases FAP is a Fraud Analytics and investigative platform with inbuilt case manager and suite of Analytics for various ERP systems It can be used by clients to interrogate their A ounting systems for identifying the anomalies which can be indicators of fraud by running advanced analytics Tools Technologies HTML JavaScript SqlServer JQuery CSS Bootstrap Node js D3 js DC js'"
      ]
     },
     "execution_count": 26,
     "metadata": {},
     "output_type": "execute_result"
    }
   ],
   "source": [
    "cleaning('Skills * Programming Languages: Python (pandas, numpy, scipy, scikit-learn, matplotlib), Sql, Java, JavaScript/JQuery. * Machine learning: Regression, SVM, NaÃ¯ve Bayes, KNN, Random Forest, Decision Trees, Boosting techniques, Cluster Analysis, Word Embedding, Sentiment Analysis, Natural Language processing, Dimensionality reduction, Topic Modelling (LDA, NMF), PCA & Neural Nets. * Database Visualizations: Mysql, SqlServer, Cassandra, Hbase, ElasticSearch D3.js, DC.js, Plotly, kibana, matplotlib, ggplot, Tableau. * Others: Regular Expression, HTML, CSS, Angular 6, Logstash, Kafka, Python Flask, Git, Docker, computer vision - Open CV and understanding of Deep learning.Education Details \\r\\n\\r\\nData Science Assurance Associate \\r\\n\\r\\nData Science Assurance Associate - Ernst & Young LLP\\r\\nSkill Details \\r\\nJAVASCRIPT- Exprience - 24 months\\r\\njQuery- Exprience - 24 months\\r\\nPython- Exprience - 24 monthsCompany Details \\r\\ncompany - Ernst & Young LLP\\r\\ndescription - Fraud Investigations and Dispute Services   Assurance\\r\\nTECHNOLOGY ASSISTED REVIEW\\r\\nTAR (Technology Assisted Review) assists in accelerating the review process and run analytics and generate reports.\\r\\n* Core member of a team helped in developing automated review platform tool from scratch for assisting E discovery domain, this tool implements predictive coding and topic modelling by automating reviews, resulting in reduced labor costs and time spent during the lawyers review.\\r\\n* Understand the end to end flow of the solution, doing research and development for classification models, predictive analysis and mining of the information present in text data. Worked on analyzing the outputs and precision monitoring for the entire tool.\\r\\n* TAR assists in predictive coding, topic modelling from the evidence by following EY standards. Developed the classifier models in order to identify \"red flags\" and fraud-related issues.\\r\\n\\r\\nTools & Technologies: Python, scikit-learn, tfidf, word2vec, doc2vec, cosine similarity, NaÃ¯ve Bayes, LDA, NMF for topic modelling, Vader and text blob for sentiment analysis. Matplot lib, Tableau dashboard for reporting.\\r\\n\\r\\nMULTIPLE DATA SCIENCE AND ANALYTIC PROJECTS (USA CLIENTS)\\r\\nTEXT ANALYTICS - MOTOR VEHICLE CUSTOMER REVIEW DATA * Received customer feedback survey data for past one year. Performed sentiment (Positive, Negative & Neutral) and time series analysis on customer comments across all 4 categories.\\r\\n* Created heat map of terms by survey category based on frequency of words * Extracted Positive and Negative words across all the Survey categories and plotted Word cloud.\\r\\n* Created customized tableau dashboards for effective reporting and visualizations.\\r\\nCHATBOT * Developed a user friendly chatbot for one of our Products which handle simple questions about hours of operation, reservation options and so on.\\r\\n* This chat bot serves entire product related questions. Giving overview of tool via QA platform and also give recommendation responses so that user question to build chain of relevant answer.\\r\\n* This too has intelligence to build the pipeline of questions as per user requirement and asks the relevant /recommended questions.\\r\\n\\r\\nTools & Technologies: Python, Natural language processing, NLTK, spacy, topic modelling, Sentiment analysis, Word Embedding, scikit-learn, JavaScript/JQuery, SqlServer\\r\\n\\r\\nINFORMATION GOVERNANCE\\r\\nOrganizations to make informed decisions about all of the information they store. The integrated Information Governance portfolio synthesizes intelligence across unstructured data sources and facilitates action to ensure organizations are best positioned to counter information risk.\\r\\n* Scan data from multiple sources of formats and parse different file formats, extract Meta data information, push results for indexing elastic search and created customized, interactive dashboards using kibana.\\r\\n* Preforming ROT Analysis on the data which give information of data which helps identify content that is either Redundant, Outdated, or Trivial.\\r\\n* Preforming full-text search analysis on elastic search with predefined methods which can tag as (PII) personally identifiable information (social security numbers, addresses, names, etc.) which frequently targeted during cyber-attacks.\\r\\nTools & Technologies: Python, Flask, Elastic Search, Kibana\\r\\n\\r\\nFRAUD ANALYTIC PLATFORM\\r\\nFraud Analytics and investigative platform to review all red flag cases.\\r\\nâ\\x80¢ FAP is a Fraud Analytics and investigative platform with inbuilt case manager and suite of Analytics for various ERP systems.\\r\\n* It can be used by clients to interrogate their Accounting systems for identifying the anomalies which can be indicators of fraud by running advanced analytics\\r\\nTools & Technologies: HTML, JavaScript, SqlServer, JQuery, CSS, Bootstrap, Node.js, D3.js, DC.js')"
   ]
  },
  {
   "cell_type": "code",
   "execution_count": 27,
   "id": "3b4cf68d-97dd-48d1-9183-928b83b46c74",
   "metadata": {},
   "outputs": [],
   "source": [
    "data['Resume']= data[\"Resume\"].apply(lambda x:cleaning(x))"
   ]
  },
  {
   "cell_type": "code",
   "execution_count": 28,
   "id": "46114db5-13d3-4781-822f-80f48c79f802",
   "metadata": {},
   "outputs": [
    {
     "data": {
      "text/plain": [
       "0      Skills Programming Languages Python pandas num...\n",
       "1      Education Details May 2013 to May 2017 B E UIT...\n",
       "2      Areas of Interest Deep Learning Control System...\n",
       "3      Skills R Python SAP HANA Tableau SAP HANA SQL ...\n",
       "4      Education Details MCA YMCAUST Faridabad Haryan...\n",
       "                             ...                        \n",
       "957    Computer Skills Proficient in MS office Word B...\n",
       "958     Willingness to a ept the challenges Positive ...\n",
       "959    PERSONAL SKILLS Quick learner Eagerness to lea...\n",
       "960    COMPUTER SKILLS SOFTWARE KNOWLEDGE MS Power Po...\n",
       "961    Skill Set OS Windows XP 7 8 8 1 10 Database MY...\n",
       "Name: Resume, Length: 962, dtype: object"
      ]
     },
     "execution_count": 28,
     "metadata": {},
     "output_type": "execute_result"
    }
   ],
   "source": [
    "data['Resume']"
   ]
  },
  {
   "cell_type": "code",
   "execution_count": 29,
   "id": "fc01e061-ebb3-4954-be34-b98b34a12011",
   "metadata": {},
   "outputs": [
    {
     "data": {
      "text/plain": [
       "'Skills Programming Languages Python pandas numpy scipy scikit learn matplotlib Sql Java JavaScript JQuery Machine learning Regression SVM Na ve Bayes KNN Random Forest Decision Trees Boosting techniques Cluster Analysis Word Embedding Sentiment Analysis Natural Language processing Dimensionality reduction Topic Modelling LDA NMF PCA Neural Nets Database Visualizations Mysql SqlServer Cassandra Hbase ElasticSearch D3 js DC js Plotly kibana matplotlib ggplot Tableau Others Regular Expression HTML CSS Angular 6 Logstash Kafka Python Flask Git Docker computer vision Open CV and understanding of Deep learning Education Details Data Science Assurance Associate Data Science Assurance Associate Ernst Young LLP Skill Details JAVASCRIPT Exprience 24 months jQuery Exprience 24 months Python Exprience 24 monthsCompany Details company Ernst Young LLP description Fraud Investigations and Dispute Services Assurance TECHNOLOGY ASSISTED REVIEW TAR Technology Assisted Review assists in a elerating the review process and run analytics and generate reports Core member of a team helped in developing automated review platform tool from scratch for assisting E discovery domain this tool implements predictive coding and topic modelling by automating reviews resulting in reduced labor costs and time spent during the lawyers review Understand the end to end flow of the solution doing research and development for classification models predictive analysis and mining of the information present in text data Worked on analyzing the outputs and precision monitoring for the entire tool TAR assists in predictive coding topic modelling from the evidence by following EY standards Developed the classifier models in order to identify red flags and fraud related issues Tools Technologies Python scikit learn tfidf word2vec doc2vec cosine similarity Na ve Bayes LDA NMF for topic modelling Vader and text blob for sentiment analysis Matplot lib Tableau dashboard for reporting MULTIPLE DATA SCIENCE AND ANALYTIC PROJECTS USA CLIENTS TEXT ANALYTICS MOTOR VEHICLE CUSTOMER REVIEW DATA Received customer feedback survey data for past one year Performed sentiment Positive Negative Neutral and time series analysis on customer comments across all 4 categories Created heat map of terms by survey category based on frequency of words Extracted Positive and Negative words across all the Survey categories and plotted Word cloud Created customized tableau dashboards for effective reporting and visualizations CHATBOT Developed a user friendly chatbot for one of our Products which handle simple questions about hours of operation reservation options and so on This chat bot serves entire product related questions Giving overview of tool via QA platform and also give recommendation responses so that user question to build chain of relevant answer This too has intelligence to build the pipeline of questions as per user requirement and asks the relevant recommended questions Tools Technologies Python Natural language processing NLTK spacy topic modelling Sentiment analysis Word Embedding scikit learn JavaScript JQuery SqlServer INFORMATION GOVERNANCE Organizations to make informed decisions about all of the information they store The integrated Information Governance portfolio synthesizes intelligence across unstructured data sources and facilitates action to ensure organizations are best positioned to counter information risk Scan data from multiple sources of formats and parse different file formats extract Meta data information push results for indexing elastic search and created customized interactive dashboards using kibana Preforming ROT Analysis on the data which give information of data which helps identify content that is either Redundant Outdated or Trivial Preforming full text search analysis on elastic search with predefined methods which can tag as PII personally identifiable information social security numbers addresses names etc which frequently targeted during cyber attacks Tools Technologies Python Flask Elastic Search Kibana FRAUD ANALYTIC PLATFORM Fraud Analytics and investigative platform to review all red flag cases FAP is a Fraud Analytics and investigative platform with inbuilt case manager and suite of Analytics for various ERP systems It can be used by clients to interrogate their A ounting systems for identifying the anomalies which can be indicators of fraud by running advanced analytics Tools Technologies HTML JavaScript SqlServer JQuery CSS Bootstrap Node js D3 js DC js'"
      ]
     },
     "execution_count": 29,
     "metadata": {},
     "output_type": "execute_result"
    }
   ],
   "source": [
    "data[\"Resume\"][0]"
   ]
  },
  {
   "cell_type": "code",
   "execution_count": 30,
   "id": "36fb88af-78dc-4979-8c78-dc1d4f52301b",
   "metadata": {},
   "outputs": [],
   "source": [
    "from sklearn.model_selection import train_test_split"
   ]
  },
  {
   "cell_type": "code",
   "execution_count": 31,
   "id": "abf77b98-dda5-4a1a-92a4-fe4b2174240e",
   "metadata": {},
   "outputs": [],
   "source": [
    "from sklearn.preprocessing import LabelEncoder\n",
    "label = LabelEncoder()"
   ]
  },
  {
   "cell_type": "code",
   "execution_count": 32,
   "id": "ceed1421-da0b-468c-a94f-e50c5511f08e",
   "metadata": {},
   "outputs": [],
   "source": [
    "label.fit(data['Category'])\n",
    "data['Category'] = label.transform(data['Category'])"
   ]
  },
  {
   "cell_type": "code",
   "execution_count": 34,
   "id": "e95ee17d-b695-405c-9ab6-cc97c6f3d94c",
   "metadata": {},
   "outputs": [
    {
     "data": {
      "text/plain": [
       "0       6\n",
       "1       6\n",
       "2       6\n",
       "3       6\n",
       "4       6\n",
       "       ..\n",
       "957    23\n",
       "958    23\n",
       "959    23\n",
       "960    23\n",
       "961    23\n",
       "Name: Category, Length: 962, dtype: int32"
      ]
     },
     "execution_count": 34,
     "metadata": {},
     "output_type": "execute_result"
    }
   ],
   "source": [
    "data['Category']"
   ]
  },
  {
   "cell_type": "code",
   "execution_count": 36,
   "id": "d926cd12-89d8-4212-9cf0-63e8208ca82f",
   "metadata": {},
   "outputs": [
    {
     "data": {
      "text/plain": [
       "array([ 6, 12,  0,  1, 24, 16, 22, 14,  5, 15,  4, 21,  2, 11, 18, 20,  8,\n",
       "       17, 19,  7, 13, 10,  9,  3, 23])"
      ]
     },
     "execution_count": 36,
     "metadata": {},
     "output_type": "execute_result"
    }
   ],
   "source": [
    "data.Category.unique()"
   ]
  },
  {
   "cell_type": "code",
   "execution_count": 38,
   "id": "ed1e1d22-5a30-4db9-b904-137e1a9c47c9",
   "metadata": {},
   "outputs": [],
   "source": [
    "from sklearn.feature_extraction.text import TfidfVectorizer\n",
    "tfidf = TfidfVectorizer(stop_words='english')\n",
    "\n",
    "tfidf.fit(data['Resume'])\n",
    "requiredText  = tfidf.transform(data['Resume'])"
   ]
  },
  {
   "cell_type": "code",
   "execution_count": 39,
   "id": "a4ae74f8-ffa7-4f38-b07e-da42c85b9c49",
   "metadata": {},
   "outputs": [
    {
     "data": {
      "text/plain": [
       "<962x7351 sparse matrix of type '<class 'numpy.float64'>'\n",
       "\twith 164261 stored elements in Compressed Sparse Row format>"
      ]
     },
     "execution_count": 39,
     "metadata": {},
     "output_type": "execute_result"
    }
   ],
   "source": [
    "requiredText"
   ]
  },
  {
   "cell_type": "code",
   "execution_count": 40,
   "id": "f6a8d9c3-a000-47db-9890-d5a2b2bce111",
   "metadata": {},
   "outputs": [],
   "source": [
    "x_train,x_test,y_train,y_test= train_test_split(,requiredTextdata['Category'],data['Resume'],test_size=0.2)"
   ]
  },
  {
   "cell_type": "code",
   "execution_count": 42,
   "id": "638d21a9-5186-4acd-a60b-da0c61ac2a24",
   "metadata": {},
   "outputs": [
    {
     "data": {
      "text/plain": [
       "36      6\n",
       "523    18\n",
       "816    10\n",
       "49     12\n",
       "281    14\n",
       "       ..\n",
       "289    14\n",
       "278    14\n",
       "834     9\n",
       "623     8\n",
       "0       6\n",
       "Name: Category, Length: 769, dtype: int32"
      ]
     },
     "execution_count": 42,
     "metadata": {},
     "output_type": "execute_result"
    }
   ],
   "source": [
    "x_train"
   ]
  },
  {
   "cell_type": "code",
   "execution_count": 43,
   "id": "09e85f6a-187d-4752-9068-e1879f92b712",
   "metadata": {},
   "outputs": [
    {
     "data": {
      "text/plain": [
       "36     Skills Python Tableau Data Visualization R Stu...\n",
       "523    Education Details BCA Vinayaka Missions Univer...\n",
       "816    Education Details January 2015 Bachelor of Eng...\n",
       "49     Computer Knowledge Proficient in basic use of ...\n",
       "281    Education Details January 2009 P G Sports scie...\n",
       "                             ...                        \n",
       "289    Education Details January 1992 to January 2003...\n",
       "278    Education Details January 2018 M S Nutrition a...\n",
       "834    Education Details January 2014 Education Detai...\n",
       "623    CORE COMPETENCIES Ant Maven GIT Bitbucket Jenk...\n",
       "0      Skills Programming Languages Python pandas num...\n",
       "Name: Resume, Length: 769, dtype: object"
      ]
     },
     "execution_count": 43,
     "metadata": {},
     "output_type": "execute_result"
    }
   ],
   "source": [
    "y_train"
   ]
  },
  {
   "cell_type": "code",
   "execution_count": 44,
   "id": "33fa446f-1863-4048-8b85-7c6d3e67bfcd",
   "metadata": {},
   "outputs": [
    {
     "data": {
      "text/plain": [
       "(769,)"
      ]
     },
     "execution_count": 44,
     "metadata": {},
     "output_type": "execute_result"
    }
   ],
   "source": [
    "x_train.shape"
   ]
  },
  {
   "cell_type": "code",
   "execution_count": 45,
   "id": "af40f1c4-8e6d-46ab-999b-fbfc02017628",
   "metadata": {},
   "outputs": [
    {
     "data": {
      "text/plain": [
       "(769,)"
      ]
     },
     "execution_count": 45,
     "metadata": {},
     "output_type": "execute_result"
    }
   ],
   "source": [
    "y_train.shape"
   ]
  },
  {
   "cell_type": "code",
   "execution_count": 46,
   "id": "a526ba13-fab2-47b6-b043-12a9c3987a19",
   "metadata": {},
   "outputs": [
    {
     "ename": "ValueError",
     "evalue": "Expected a 2-dimensional container but got <class 'pandas.core.series.Series'> instead. Pass a DataFrame containing a single row (i.e. single sample) or a single column (i.e. single feature) instead.",
     "output_type": "error",
     "traceback": [
      "\u001b[1;31m---------------------------------------------------------------------------\u001b[0m",
      "\u001b[1;31mValueError\u001b[0m                                Traceback (most recent call last)",
      "Cell \u001b[1;32mIn[46], line 6\u001b[0m\n\u001b[0;32m      3\u001b[0m \u001b[38;5;28;01mfrom\u001b[39;00m \u001b[38;5;21;01msklearn\u001b[39;00m\u001b[38;5;21;01m.\u001b[39;00m\u001b[38;5;21;01mmetrics\u001b[39;00m \u001b[38;5;28;01mimport\u001b[39;00m accuracy_score\n\u001b[0;32m      5\u001b[0m clf \u001b[38;5;241m=\u001b[39m OneVsRestClassifier(KNeighborsClassifier())\n\u001b[1;32m----> 6\u001b[0m \u001b[43mclf\u001b[49m\u001b[38;5;241;43m.\u001b[39;49m\u001b[43mfit\u001b[49m\u001b[43m(\u001b[49m\u001b[43mx_train\u001b[49m\u001b[43m,\u001b[49m\u001b[43my_train\u001b[49m\u001b[43m)\u001b[49m\n\u001b[0;32m      7\u001b[0m ypred \u001b[38;5;241m=\u001b[39m clf\u001b[38;5;241m.\u001b[39mpredict(x_test)\n\u001b[0;32m      8\u001b[0m \u001b[38;5;28mprint\u001b[39m(accuracy_score(y_test,ypred))\n",
      "File \u001b[1;32mD:\\installation\\python\\lib\\site-packages\\sklearn\\base.py:1473\u001b[0m, in \u001b[0;36m_fit_context.<locals>.decorator.<locals>.wrapper\u001b[1;34m(estimator, *args, **kwargs)\u001b[0m\n\u001b[0;32m   1466\u001b[0m     estimator\u001b[38;5;241m.\u001b[39m_validate_params()\n\u001b[0;32m   1468\u001b[0m \u001b[38;5;28;01mwith\u001b[39;00m config_context(\n\u001b[0;32m   1469\u001b[0m     skip_parameter_validation\u001b[38;5;241m=\u001b[39m(\n\u001b[0;32m   1470\u001b[0m         prefer_skip_nested_validation \u001b[38;5;129;01mor\u001b[39;00m global_skip_validation\n\u001b[0;32m   1471\u001b[0m     )\n\u001b[0;32m   1472\u001b[0m ):\n\u001b[1;32m-> 1473\u001b[0m     \u001b[38;5;28;01mreturn\u001b[39;00m fit_method(estimator, \u001b[38;5;241m*\u001b[39margs, \u001b[38;5;241m*\u001b[39m\u001b[38;5;241m*\u001b[39mkwargs)\n",
      "File \u001b[1;32mD:\\installation\\python\\lib\\site-packages\\sklearn\\multiclass.py:370\u001b[0m, in \u001b[0;36mOneVsRestClassifier.fit\u001b[1;34m(self, X, y, **fit_params)\u001b[0m\n\u001b[0;32m    366\u001b[0m columns \u001b[38;5;241m=\u001b[39m (col\u001b[38;5;241m.\u001b[39mtoarray()\u001b[38;5;241m.\u001b[39mravel() \u001b[38;5;28;01mfor\u001b[39;00m col \u001b[38;5;129;01min\u001b[39;00m Y\u001b[38;5;241m.\u001b[39mT)\n\u001b[0;32m    367\u001b[0m \u001b[38;5;66;03m# In cases where individual estimators are very fast to train setting\u001b[39;00m\n\u001b[0;32m    368\u001b[0m \u001b[38;5;66;03m# n_jobs > 1 in can results in slower performance due to the overhead\u001b[39;00m\n\u001b[0;32m    369\u001b[0m \u001b[38;5;66;03m# of spawning threads.  See joblib issue #112.\u001b[39;00m\n\u001b[1;32m--> 370\u001b[0m \u001b[38;5;28mself\u001b[39m\u001b[38;5;241m.\u001b[39mestimators_ \u001b[38;5;241m=\u001b[39m \u001b[43mParallel\u001b[49m\u001b[43m(\u001b[49m\u001b[43mn_jobs\u001b[49m\u001b[38;5;241;43m=\u001b[39;49m\u001b[38;5;28;43mself\u001b[39;49m\u001b[38;5;241;43m.\u001b[39;49m\u001b[43mn_jobs\u001b[49m\u001b[43m,\u001b[49m\u001b[43m \u001b[49m\u001b[43mverbose\u001b[49m\u001b[38;5;241;43m=\u001b[39;49m\u001b[38;5;28;43mself\u001b[39;49m\u001b[38;5;241;43m.\u001b[39;49m\u001b[43mverbose\u001b[49m\u001b[43m)\u001b[49m\u001b[43m(\u001b[49m\n\u001b[0;32m    371\u001b[0m \u001b[43m    \u001b[49m\u001b[43mdelayed\u001b[49m\u001b[43m(\u001b[49m\u001b[43m_fit_binary\u001b[49m\u001b[43m)\u001b[49m\u001b[43m(\u001b[49m\n\u001b[0;32m    372\u001b[0m \u001b[43m        \u001b[49m\u001b[38;5;28;43mself\u001b[39;49m\u001b[38;5;241;43m.\u001b[39;49m\u001b[43mestimator\u001b[49m\u001b[43m,\u001b[49m\n\u001b[0;32m    373\u001b[0m \u001b[43m        \u001b[49m\u001b[43mX\u001b[49m\u001b[43m,\u001b[49m\n\u001b[0;32m    374\u001b[0m \u001b[43m        \u001b[49m\u001b[43mcolumn\u001b[49m\u001b[43m,\u001b[49m\n\u001b[0;32m    375\u001b[0m \u001b[43m        \u001b[49m\u001b[43mfit_params\u001b[49m\u001b[38;5;241;43m=\u001b[39;49m\u001b[43mrouted_params\u001b[49m\u001b[38;5;241;43m.\u001b[39;49m\u001b[43mestimator\u001b[49m\u001b[38;5;241;43m.\u001b[39;49m\u001b[43mfit\u001b[49m\u001b[43m,\u001b[49m\n\u001b[0;32m    376\u001b[0m \u001b[43m        \u001b[49m\u001b[43mclasses\u001b[49m\u001b[38;5;241;43m=\u001b[39;49m\u001b[43m[\u001b[49m\n\u001b[0;32m    377\u001b[0m \u001b[43m            \u001b[49m\u001b[38;5;124;43m\"\u001b[39;49m\u001b[38;5;124;43mnot \u001b[39;49m\u001b[38;5;132;43;01m%s\u001b[39;49;00m\u001b[38;5;124;43m\"\u001b[39;49m\u001b[43m \u001b[49m\u001b[38;5;241;43m%\u001b[39;49m\u001b[43m \u001b[49m\u001b[38;5;28;43mself\u001b[39;49m\u001b[38;5;241;43m.\u001b[39;49m\u001b[43mlabel_binarizer_\u001b[49m\u001b[38;5;241;43m.\u001b[39;49m\u001b[43mclasses_\u001b[49m\u001b[43m[\u001b[49m\u001b[43mi\u001b[49m\u001b[43m]\u001b[49m\u001b[43m,\u001b[49m\n\u001b[0;32m    378\u001b[0m \u001b[43m            \u001b[49m\u001b[38;5;28;43mself\u001b[39;49m\u001b[38;5;241;43m.\u001b[39;49m\u001b[43mlabel_binarizer_\u001b[49m\u001b[38;5;241;43m.\u001b[39;49m\u001b[43mclasses_\u001b[49m\u001b[43m[\u001b[49m\u001b[43mi\u001b[49m\u001b[43m]\u001b[49m\u001b[43m,\u001b[49m\n\u001b[0;32m    379\u001b[0m \u001b[43m        \u001b[49m\u001b[43m]\u001b[49m\u001b[43m,\u001b[49m\n\u001b[0;32m    380\u001b[0m \u001b[43m    \u001b[49m\u001b[43m)\u001b[49m\n\u001b[0;32m    381\u001b[0m \u001b[43m    \u001b[49m\u001b[38;5;28;43;01mfor\u001b[39;49;00m\u001b[43m \u001b[49m\u001b[43mi\u001b[49m\u001b[43m,\u001b[49m\u001b[43m \u001b[49m\u001b[43mcolumn\u001b[49m\u001b[43m \u001b[49m\u001b[38;5;129;43;01min\u001b[39;49;00m\u001b[43m \u001b[49m\u001b[38;5;28;43menumerate\u001b[39;49m\u001b[43m(\u001b[49m\u001b[43mcolumns\u001b[49m\u001b[43m)\u001b[49m\n\u001b[0;32m    382\u001b[0m \u001b[43m\u001b[49m\u001b[43m)\u001b[49m\n\u001b[0;32m    384\u001b[0m \u001b[38;5;28;01mif\u001b[39;00m \u001b[38;5;28mhasattr\u001b[39m(\u001b[38;5;28mself\u001b[39m\u001b[38;5;241m.\u001b[39mestimators_[\u001b[38;5;241m0\u001b[39m], \u001b[38;5;124m\"\u001b[39m\u001b[38;5;124mn_features_in_\u001b[39m\u001b[38;5;124m\"\u001b[39m):\n\u001b[0;32m    385\u001b[0m     \u001b[38;5;28mself\u001b[39m\u001b[38;5;241m.\u001b[39mn_features_in_ \u001b[38;5;241m=\u001b[39m \u001b[38;5;28mself\u001b[39m\u001b[38;5;241m.\u001b[39mestimators_[\u001b[38;5;241m0\u001b[39m]\u001b[38;5;241m.\u001b[39mn_features_in_\n",
      "File \u001b[1;32mD:\\installation\\python\\lib\\site-packages\\sklearn\\utils\\parallel.py:74\u001b[0m, in \u001b[0;36mParallel.__call__\u001b[1;34m(self, iterable)\u001b[0m\n\u001b[0;32m     69\u001b[0m config \u001b[38;5;241m=\u001b[39m get_config()\n\u001b[0;32m     70\u001b[0m iterable_with_config \u001b[38;5;241m=\u001b[39m (\n\u001b[0;32m     71\u001b[0m     (_with_config(delayed_func, config), args, kwargs)\n\u001b[0;32m     72\u001b[0m     \u001b[38;5;28;01mfor\u001b[39;00m delayed_func, args, kwargs \u001b[38;5;129;01min\u001b[39;00m iterable\n\u001b[0;32m     73\u001b[0m )\n\u001b[1;32m---> 74\u001b[0m \u001b[38;5;28;01mreturn\u001b[39;00m \u001b[38;5;28;43msuper\u001b[39;49m\u001b[43m(\u001b[49m\u001b[43m)\u001b[49m\u001b[38;5;241;43m.\u001b[39;49m\u001b[38;5;21;43m__call__\u001b[39;49m\u001b[43m(\u001b[49m\u001b[43miterable_with_config\u001b[49m\u001b[43m)\u001b[49m\n",
      "File \u001b[1;32mD:\\installation\\python\\lib\\site-packages\\joblib\\parallel.py:1918\u001b[0m, in \u001b[0;36mParallel.__call__\u001b[1;34m(self, iterable)\u001b[0m\n\u001b[0;32m   1916\u001b[0m     output \u001b[38;5;241m=\u001b[39m \u001b[38;5;28mself\u001b[39m\u001b[38;5;241m.\u001b[39m_get_sequential_output(iterable)\n\u001b[0;32m   1917\u001b[0m     \u001b[38;5;28mnext\u001b[39m(output)\n\u001b[1;32m-> 1918\u001b[0m     \u001b[38;5;28;01mreturn\u001b[39;00m output \u001b[38;5;28;01mif\u001b[39;00m \u001b[38;5;28mself\u001b[39m\u001b[38;5;241m.\u001b[39mreturn_generator \u001b[38;5;28;01melse\u001b[39;00m \u001b[38;5;28;43mlist\u001b[39;49m\u001b[43m(\u001b[49m\u001b[43moutput\u001b[49m\u001b[43m)\u001b[49m\n\u001b[0;32m   1920\u001b[0m \u001b[38;5;66;03m# Let's create an ID that uniquely identifies the current call. If the\u001b[39;00m\n\u001b[0;32m   1921\u001b[0m \u001b[38;5;66;03m# call is interrupted early and that the same instance is immediately\u001b[39;00m\n\u001b[0;32m   1922\u001b[0m \u001b[38;5;66;03m# re-used, this id will be used to prevent workers that were\u001b[39;00m\n\u001b[0;32m   1923\u001b[0m \u001b[38;5;66;03m# concurrently finalizing a task from the previous call to run the\u001b[39;00m\n\u001b[0;32m   1924\u001b[0m \u001b[38;5;66;03m# callback.\u001b[39;00m\n\u001b[0;32m   1925\u001b[0m \u001b[38;5;28;01mwith\u001b[39;00m \u001b[38;5;28mself\u001b[39m\u001b[38;5;241m.\u001b[39m_lock:\n",
      "File \u001b[1;32mD:\\installation\\python\\lib\\site-packages\\joblib\\parallel.py:1847\u001b[0m, in \u001b[0;36mParallel._get_sequential_output\u001b[1;34m(self, iterable)\u001b[0m\n\u001b[0;32m   1845\u001b[0m \u001b[38;5;28mself\u001b[39m\u001b[38;5;241m.\u001b[39mn_dispatched_batches \u001b[38;5;241m+\u001b[39m\u001b[38;5;241m=\u001b[39m \u001b[38;5;241m1\u001b[39m\n\u001b[0;32m   1846\u001b[0m \u001b[38;5;28mself\u001b[39m\u001b[38;5;241m.\u001b[39mn_dispatched_tasks \u001b[38;5;241m+\u001b[39m\u001b[38;5;241m=\u001b[39m \u001b[38;5;241m1\u001b[39m\n\u001b[1;32m-> 1847\u001b[0m res \u001b[38;5;241m=\u001b[39m func(\u001b[38;5;241m*\u001b[39margs, \u001b[38;5;241m*\u001b[39m\u001b[38;5;241m*\u001b[39mkwargs)\n\u001b[0;32m   1848\u001b[0m \u001b[38;5;28mself\u001b[39m\u001b[38;5;241m.\u001b[39mn_completed_tasks \u001b[38;5;241m+\u001b[39m\u001b[38;5;241m=\u001b[39m \u001b[38;5;241m1\u001b[39m\n\u001b[0;32m   1849\u001b[0m \u001b[38;5;28mself\u001b[39m\u001b[38;5;241m.\u001b[39mprint_progress()\n",
      "File \u001b[1;32mD:\\installation\\python\\lib\\site-packages\\sklearn\\utils\\parallel.py:136\u001b[0m, in \u001b[0;36m_FuncWrapper.__call__\u001b[1;34m(self, *args, **kwargs)\u001b[0m\n\u001b[0;32m    134\u001b[0m     config \u001b[38;5;241m=\u001b[39m {}\n\u001b[0;32m    135\u001b[0m \u001b[38;5;28;01mwith\u001b[39;00m config_context(\u001b[38;5;241m*\u001b[39m\u001b[38;5;241m*\u001b[39mconfig):\n\u001b[1;32m--> 136\u001b[0m     \u001b[38;5;28;01mreturn\u001b[39;00m \u001b[38;5;28mself\u001b[39m\u001b[38;5;241m.\u001b[39mfunction(\u001b[38;5;241m*\u001b[39margs, \u001b[38;5;241m*\u001b[39m\u001b[38;5;241m*\u001b[39mkwargs)\n",
      "File \u001b[1;32mD:\\installation\\python\\lib\\site-packages\\sklearn\\multiclass.py:93\u001b[0m, in \u001b[0;36m_fit_binary\u001b[1;34m(estimator, X, y, fit_params, classes)\u001b[0m\n\u001b[0;32m     91\u001b[0m \u001b[38;5;28;01melse\u001b[39;00m:\n\u001b[0;32m     92\u001b[0m     estimator \u001b[38;5;241m=\u001b[39m clone(estimator)\n\u001b[1;32m---> 93\u001b[0m     estimator\u001b[38;5;241m.\u001b[39mfit(X, y, \u001b[38;5;241m*\u001b[39m\u001b[38;5;241m*\u001b[39mfit_params)\n\u001b[0;32m     94\u001b[0m \u001b[38;5;28;01mreturn\u001b[39;00m estimator\n",
      "File \u001b[1;32mD:\\installation\\python\\lib\\site-packages\\sklearn\\base.py:1473\u001b[0m, in \u001b[0;36m_fit_context.<locals>.decorator.<locals>.wrapper\u001b[1;34m(estimator, *args, **kwargs)\u001b[0m\n\u001b[0;32m   1466\u001b[0m     estimator\u001b[38;5;241m.\u001b[39m_validate_params()\n\u001b[0;32m   1468\u001b[0m \u001b[38;5;28;01mwith\u001b[39;00m config_context(\n\u001b[0;32m   1469\u001b[0m     skip_parameter_validation\u001b[38;5;241m=\u001b[39m(\n\u001b[0;32m   1470\u001b[0m         prefer_skip_nested_validation \u001b[38;5;129;01mor\u001b[39;00m global_skip_validation\n\u001b[0;32m   1471\u001b[0m     )\n\u001b[0;32m   1472\u001b[0m ):\n\u001b[1;32m-> 1473\u001b[0m     \u001b[38;5;28;01mreturn\u001b[39;00m fit_method(estimator, \u001b[38;5;241m*\u001b[39margs, \u001b[38;5;241m*\u001b[39m\u001b[38;5;241m*\u001b[39mkwargs)\n",
      "File \u001b[1;32mD:\\installation\\python\\lib\\site-packages\\sklearn\\neighbors\\_classification.py:238\u001b[0m, in \u001b[0;36mKNeighborsClassifier.fit\u001b[1;34m(self, X, y)\u001b[0m\n\u001b[0;32m    216\u001b[0m \u001b[38;5;129m@_fit_context\u001b[39m(\n\u001b[0;32m    217\u001b[0m     \u001b[38;5;66;03m# KNeighborsClassifier.metric is not validated yet\u001b[39;00m\n\u001b[0;32m    218\u001b[0m     prefer_skip_nested_validation\u001b[38;5;241m=\u001b[39m\u001b[38;5;28;01mFalse\u001b[39;00m\n\u001b[0;32m    219\u001b[0m )\n\u001b[0;32m    220\u001b[0m \u001b[38;5;28;01mdef\u001b[39;00m \u001b[38;5;21mfit\u001b[39m(\u001b[38;5;28mself\u001b[39m, X, y):\n\u001b[0;32m    221\u001b[0m \u001b[38;5;250m    \u001b[39m\u001b[38;5;124;03m\"\"\"Fit the k-nearest neighbors classifier from the training dataset.\u001b[39;00m\n\u001b[0;32m    222\u001b[0m \n\u001b[0;32m    223\u001b[0m \u001b[38;5;124;03m    Parameters\u001b[39;00m\n\u001b[1;32m   (...)\u001b[0m\n\u001b[0;32m    236\u001b[0m \u001b[38;5;124;03m        The fitted k-nearest neighbors classifier.\u001b[39;00m\n\u001b[0;32m    237\u001b[0m \u001b[38;5;124;03m    \"\"\"\u001b[39;00m\n\u001b[1;32m--> 238\u001b[0m     \u001b[38;5;28;01mreturn\u001b[39;00m \u001b[38;5;28;43mself\u001b[39;49m\u001b[38;5;241;43m.\u001b[39;49m\u001b[43m_fit\u001b[49m\u001b[43m(\u001b[49m\u001b[43mX\u001b[49m\u001b[43m,\u001b[49m\u001b[43m \u001b[49m\u001b[43my\u001b[49m\u001b[43m)\u001b[49m\n",
      "File \u001b[1;32mD:\\installation\\python\\lib\\site-packages\\sklearn\\neighbors\\_base.py:475\u001b[0m, in \u001b[0;36mNeighborsBase._fit\u001b[1;34m(self, X, y)\u001b[0m\n\u001b[0;32m    473\u001b[0m \u001b[38;5;28;01mif\u001b[39;00m \u001b[38;5;28mself\u001b[39m\u001b[38;5;241m.\u001b[39m_get_tags()[\u001b[38;5;124m\"\u001b[39m\u001b[38;5;124mrequires_y\u001b[39m\u001b[38;5;124m\"\u001b[39m]:\n\u001b[0;32m    474\u001b[0m     \u001b[38;5;28;01mif\u001b[39;00m \u001b[38;5;129;01mnot\u001b[39;00m \u001b[38;5;28misinstance\u001b[39m(X, (KDTree, BallTree, NeighborsBase)):\n\u001b[1;32m--> 475\u001b[0m         X, y \u001b[38;5;241m=\u001b[39m \u001b[38;5;28;43mself\u001b[39;49m\u001b[38;5;241;43m.\u001b[39;49m\u001b[43m_validate_data\u001b[49m\u001b[43m(\u001b[49m\n\u001b[0;32m    476\u001b[0m \u001b[43m            \u001b[49m\u001b[43mX\u001b[49m\u001b[43m,\u001b[49m\u001b[43m \u001b[49m\u001b[43my\u001b[49m\u001b[43m,\u001b[49m\u001b[43m \u001b[49m\u001b[43maccept_sparse\u001b[49m\u001b[38;5;241;43m=\u001b[39;49m\u001b[38;5;124;43m\"\u001b[39;49m\u001b[38;5;124;43mcsr\u001b[39;49m\u001b[38;5;124;43m\"\u001b[39;49m\u001b[43m,\u001b[49m\u001b[43m \u001b[49m\u001b[43mmulti_output\u001b[49m\u001b[38;5;241;43m=\u001b[39;49m\u001b[38;5;28;43;01mTrue\u001b[39;49;00m\u001b[43m,\u001b[49m\u001b[43m \u001b[49m\u001b[43morder\u001b[49m\u001b[38;5;241;43m=\u001b[39;49m\u001b[38;5;124;43m\"\u001b[39;49m\u001b[38;5;124;43mC\u001b[39;49m\u001b[38;5;124;43m\"\u001b[39;49m\n\u001b[0;32m    477\u001b[0m \u001b[43m        \u001b[49m\u001b[43m)\u001b[49m\n\u001b[0;32m    479\u001b[0m     \u001b[38;5;28;01mif\u001b[39;00m is_classifier(\u001b[38;5;28mself\u001b[39m):\n\u001b[0;32m    480\u001b[0m         \u001b[38;5;66;03m# Classification targets require a specific format\u001b[39;00m\n\u001b[0;32m    481\u001b[0m         \u001b[38;5;28;01mif\u001b[39;00m y\u001b[38;5;241m.\u001b[39mndim \u001b[38;5;241m==\u001b[39m \u001b[38;5;241m1\u001b[39m \u001b[38;5;129;01mor\u001b[39;00m y\u001b[38;5;241m.\u001b[39mndim \u001b[38;5;241m==\u001b[39m \u001b[38;5;241m2\u001b[39m \u001b[38;5;129;01mand\u001b[39;00m y\u001b[38;5;241m.\u001b[39mshape[\u001b[38;5;241m1\u001b[39m] \u001b[38;5;241m==\u001b[39m \u001b[38;5;241m1\u001b[39m:\n",
      "File \u001b[1;32mD:\\installation\\python\\lib\\site-packages\\sklearn\\base.py:650\u001b[0m, in \u001b[0;36mBaseEstimator._validate_data\u001b[1;34m(self, X, y, reset, validate_separately, cast_to_ndarray, **check_params)\u001b[0m\n\u001b[0;32m    648\u001b[0m         y \u001b[38;5;241m=\u001b[39m check_array(y, input_name\u001b[38;5;241m=\u001b[39m\u001b[38;5;124m\"\u001b[39m\u001b[38;5;124my\u001b[39m\u001b[38;5;124m\"\u001b[39m, \u001b[38;5;241m*\u001b[39m\u001b[38;5;241m*\u001b[39mcheck_y_params)\n\u001b[0;32m    649\u001b[0m     \u001b[38;5;28;01melse\u001b[39;00m:\n\u001b[1;32m--> 650\u001b[0m         X, y \u001b[38;5;241m=\u001b[39m check_X_y(X, y, \u001b[38;5;241m*\u001b[39m\u001b[38;5;241m*\u001b[39mcheck_params)\n\u001b[0;32m    651\u001b[0m     out \u001b[38;5;241m=\u001b[39m X, y\n\u001b[0;32m    653\u001b[0m \u001b[38;5;28;01mif\u001b[39;00m \u001b[38;5;129;01mnot\u001b[39;00m no_val_X \u001b[38;5;129;01mand\u001b[39;00m check_params\u001b[38;5;241m.\u001b[39mget(\u001b[38;5;124m\"\u001b[39m\u001b[38;5;124mensure_2d\u001b[39m\u001b[38;5;124m\"\u001b[39m, \u001b[38;5;28;01mTrue\u001b[39;00m):\n",
      "File \u001b[1;32mD:\\installation\\python\\lib\\site-packages\\sklearn\\utils\\validation.py:1301\u001b[0m, in \u001b[0;36mcheck_X_y\u001b[1;34m(X, y, accept_sparse, accept_large_sparse, dtype, order, copy, force_writeable, force_all_finite, ensure_2d, allow_nd, multi_output, ensure_min_samples, ensure_min_features, y_numeric, estimator)\u001b[0m\n\u001b[0;32m   1296\u001b[0m         estimator_name \u001b[38;5;241m=\u001b[39m _check_estimator_name(estimator)\n\u001b[0;32m   1297\u001b[0m     \u001b[38;5;28;01mraise\u001b[39;00m \u001b[38;5;167;01mValueError\u001b[39;00m(\n\u001b[0;32m   1298\u001b[0m         \u001b[38;5;124mf\u001b[39m\u001b[38;5;124m\"\u001b[39m\u001b[38;5;132;01m{\u001b[39;00mestimator_name\u001b[38;5;132;01m}\u001b[39;00m\u001b[38;5;124m requires y to be passed, but the target y is None\u001b[39m\u001b[38;5;124m\"\u001b[39m\n\u001b[0;32m   1299\u001b[0m     )\n\u001b[1;32m-> 1301\u001b[0m X \u001b[38;5;241m=\u001b[39m \u001b[43mcheck_array\u001b[49m\u001b[43m(\u001b[49m\n\u001b[0;32m   1302\u001b[0m \u001b[43m    \u001b[49m\u001b[43mX\u001b[49m\u001b[43m,\u001b[49m\n\u001b[0;32m   1303\u001b[0m \u001b[43m    \u001b[49m\u001b[43maccept_sparse\u001b[49m\u001b[38;5;241;43m=\u001b[39;49m\u001b[43maccept_sparse\u001b[49m\u001b[43m,\u001b[49m\n\u001b[0;32m   1304\u001b[0m \u001b[43m    \u001b[49m\u001b[43maccept_large_sparse\u001b[49m\u001b[38;5;241;43m=\u001b[39;49m\u001b[43maccept_large_sparse\u001b[49m\u001b[43m,\u001b[49m\n\u001b[0;32m   1305\u001b[0m \u001b[43m    \u001b[49m\u001b[43mdtype\u001b[49m\u001b[38;5;241;43m=\u001b[39;49m\u001b[43mdtype\u001b[49m\u001b[43m,\u001b[49m\n\u001b[0;32m   1306\u001b[0m \u001b[43m    \u001b[49m\u001b[43morder\u001b[49m\u001b[38;5;241;43m=\u001b[39;49m\u001b[43morder\u001b[49m\u001b[43m,\u001b[49m\n\u001b[0;32m   1307\u001b[0m \u001b[43m    \u001b[49m\u001b[43mcopy\u001b[49m\u001b[38;5;241;43m=\u001b[39;49m\u001b[43mcopy\u001b[49m\u001b[43m,\u001b[49m\n\u001b[0;32m   1308\u001b[0m \u001b[43m    \u001b[49m\u001b[43mforce_writeable\u001b[49m\u001b[38;5;241;43m=\u001b[39;49m\u001b[43mforce_writeable\u001b[49m\u001b[43m,\u001b[49m\n\u001b[0;32m   1309\u001b[0m \u001b[43m    \u001b[49m\u001b[43mforce_all_finite\u001b[49m\u001b[38;5;241;43m=\u001b[39;49m\u001b[43mforce_all_finite\u001b[49m\u001b[43m,\u001b[49m\n\u001b[0;32m   1310\u001b[0m \u001b[43m    \u001b[49m\u001b[43mensure_2d\u001b[49m\u001b[38;5;241;43m=\u001b[39;49m\u001b[43mensure_2d\u001b[49m\u001b[43m,\u001b[49m\n\u001b[0;32m   1311\u001b[0m \u001b[43m    \u001b[49m\u001b[43mallow_nd\u001b[49m\u001b[38;5;241;43m=\u001b[39;49m\u001b[43mallow_nd\u001b[49m\u001b[43m,\u001b[49m\n\u001b[0;32m   1312\u001b[0m \u001b[43m    \u001b[49m\u001b[43mensure_min_samples\u001b[49m\u001b[38;5;241;43m=\u001b[39;49m\u001b[43mensure_min_samples\u001b[49m\u001b[43m,\u001b[49m\n\u001b[0;32m   1313\u001b[0m \u001b[43m    \u001b[49m\u001b[43mensure_min_features\u001b[49m\u001b[38;5;241;43m=\u001b[39;49m\u001b[43mensure_min_features\u001b[49m\u001b[43m,\u001b[49m\n\u001b[0;32m   1314\u001b[0m \u001b[43m    \u001b[49m\u001b[43mestimator\u001b[49m\u001b[38;5;241;43m=\u001b[39;49m\u001b[43mestimator\u001b[49m\u001b[43m,\u001b[49m\n\u001b[0;32m   1315\u001b[0m \u001b[43m    \u001b[49m\u001b[43minput_name\u001b[49m\u001b[38;5;241;43m=\u001b[39;49m\u001b[38;5;124;43m\"\u001b[39;49m\u001b[38;5;124;43mX\u001b[39;49m\u001b[38;5;124;43m\"\u001b[39;49m\u001b[43m,\u001b[49m\n\u001b[0;32m   1316\u001b[0m \u001b[43m\u001b[49m\u001b[43m)\u001b[49m\n\u001b[0;32m   1318\u001b[0m y \u001b[38;5;241m=\u001b[39m _check_y(y, multi_output\u001b[38;5;241m=\u001b[39mmulti_output, y_numeric\u001b[38;5;241m=\u001b[39my_numeric, estimator\u001b[38;5;241m=\u001b[39mestimator)\n\u001b[0;32m   1320\u001b[0m check_consistent_length(X, y)\n",
      "File \u001b[1;32mD:\\installation\\python\\lib\\site-packages\\sklearn\\utils\\validation.py:1050\u001b[0m, in \u001b[0;36mcheck_array\u001b[1;34m(array, accept_sparse, accept_large_sparse, dtype, order, copy, force_writeable, force_all_finite, ensure_2d, allow_nd, ensure_min_samples, ensure_min_features, estimator, input_name)\u001b[0m\n\u001b[0;32m   1043\u001b[0m         \u001b[38;5;28;01melse\u001b[39;00m:\n\u001b[0;32m   1044\u001b[0m             msg \u001b[38;5;241m=\u001b[39m (\n\u001b[0;32m   1045\u001b[0m                 \u001b[38;5;124mf\u001b[39m\u001b[38;5;124m\"\u001b[39m\u001b[38;5;124mExpected 2D array, got 1D array instead:\u001b[39m\u001b[38;5;130;01m\\n\u001b[39;00m\u001b[38;5;124marray=\u001b[39m\u001b[38;5;132;01m{\u001b[39;00marray\u001b[38;5;132;01m}\u001b[39;00m\u001b[38;5;124m.\u001b[39m\u001b[38;5;130;01m\\n\u001b[39;00m\u001b[38;5;124m\"\u001b[39m\n\u001b[0;32m   1046\u001b[0m                 \u001b[38;5;124m\"\u001b[39m\u001b[38;5;124mReshape your data either using array.reshape(-1, 1) if \u001b[39m\u001b[38;5;124m\"\u001b[39m\n\u001b[0;32m   1047\u001b[0m                 \u001b[38;5;124m\"\u001b[39m\u001b[38;5;124myour data has a single feature or array.reshape(1, -1) \u001b[39m\u001b[38;5;124m\"\u001b[39m\n\u001b[0;32m   1048\u001b[0m                 \u001b[38;5;124m\"\u001b[39m\u001b[38;5;124mif it contains a single sample.\u001b[39m\u001b[38;5;124m\"\u001b[39m\n\u001b[0;32m   1049\u001b[0m             )\n\u001b[1;32m-> 1050\u001b[0m         \u001b[38;5;28;01mraise\u001b[39;00m \u001b[38;5;167;01mValueError\u001b[39;00m(msg)\n\u001b[0;32m   1052\u001b[0m \u001b[38;5;28;01mif\u001b[39;00m dtype_numeric \u001b[38;5;129;01mand\u001b[39;00m \u001b[38;5;28mhasattr\u001b[39m(array\u001b[38;5;241m.\u001b[39mdtype, \u001b[38;5;124m\"\u001b[39m\u001b[38;5;124mkind\u001b[39m\u001b[38;5;124m\"\u001b[39m) \u001b[38;5;129;01mand\u001b[39;00m array\u001b[38;5;241m.\u001b[39mdtype\u001b[38;5;241m.\u001b[39mkind \u001b[38;5;129;01min\u001b[39;00m \u001b[38;5;124m\"\u001b[39m\u001b[38;5;124mUSV\u001b[39m\u001b[38;5;124m\"\u001b[39m:\n\u001b[0;32m   1053\u001b[0m     \u001b[38;5;28;01mraise\u001b[39;00m \u001b[38;5;167;01mValueError\u001b[39;00m(\n\u001b[0;32m   1054\u001b[0m         \u001b[38;5;124m\"\u001b[39m\u001b[38;5;124mdtype=\u001b[39m\u001b[38;5;124m'\u001b[39m\u001b[38;5;124mnumeric\u001b[39m\u001b[38;5;124m'\u001b[39m\u001b[38;5;124m is not compatible with arrays of bytes/strings.\u001b[39m\u001b[38;5;124m\"\u001b[39m\n\u001b[0;32m   1055\u001b[0m         \u001b[38;5;124m\"\u001b[39m\u001b[38;5;124mConvert your data to numeric values explicitly instead.\u001b[39m\u001b[38;5;124m\"\u001b[39m\n\u001b[0;32m   1056\u001b[0m     )\n",
      "\u001b[1;31mValueError\u001b[0m: Expected a 2-dimensional container but got <class 'pandas.core.series.Series'> instead. Pass a DataFrame containing a single row (i.e. single sample) or a single column (i.e. single feature) instead."
     ]
    }
   ],
   "source": [
    "from sklearn.neighbors import KNeighborsClassifier\n",
    "from sklearn.multiclass import OneVsRestClassifier\n",
    "from sklearn.metrics import accuracy_score\n",
    "\n",
    "clf = OneVsRestClassifier(KNeighborsClassifier())\n",
    "clf.fit(x_train,y_train)\n",
    "ypred = clf.predict(x_test)\n",
    "print(accuracy_score(y_test,ypred))"
   ]
  },
  {
   "cell_type": "code",
   "execution_count": null,
   "id": "413f8c52-88b1-42f3-82c5-7402e8de2884",
   "metadata": {},
   "outputs": [],
   "source": []
  }
 ],
 "metadata": {
  "kernelspec": {
   "display_name": "Python 3 (ipykernel)",
   "language": "python",
   "name": "python3"
  },
  "language_info": {
   "codemirror_mode": {
    "name": "ipython",
    "version": 3
   },
   "file_extension": ".py",
   "mimetype": "text/x-python",
   "name": "python",
   "nbconvert_exporter": "python",
   "pygments_lexer": "ipython3",
   "version": "3.10.11"
  }
 },
 "nbformat": 4,
 "nbformat_minor": 5
}
